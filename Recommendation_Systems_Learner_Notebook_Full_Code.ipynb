{
 "cells": [
  {
   "cell_type": "markdown",
   "metadata": {
    "id": "pXQzH0nC5JtP"
   },
   "source": [
    "# **Project: Amazon Product Recommendation System**\n",
    "\n",
    "# **Marks: 40**\n",
    "\n",
    "\n",
    "Welcome to the project on Recommendation Systems. We will work with the Amazon product reviews dataset for this project. The dataset contains ratings of different electronic products. It does not include information about the products or reviews to avoid bias while building the model. \n",
    "\n",
    "--------------\n",
    "## **Context:**\n",
    "--------------\n",
    "\n",
    "Today, information is growing exponentially with volume, velocity and variety throughout the globe. This has lead to information overload, and too many choices for the consumer of any business. It represents a real dilemma for these consumers and they often turn to denial. Recommender Systems are one of the best tools that help recommending products to consumers while they are browsing online. Providing personalized recommendations which is most relevant for the user is what's most likely to keep them engaged and help business. \n",
    "\n",
    "E-commerce websites like Amazon, Walmart, Target and Etsy use different recommendation models to provide personalized suggestions to different users. These companies spend millions of dollars to come up with algorithmic techniques that can provide personalized recommendations to their users.\n",
    "\n",
    "Amazon, for example, is well-known for its accurate selection of recommendations in its online site. Amazon's recommendation system is capable of intelligently analyzing and predicting customers' shopping preferences in order to offer them a list of recommended products. Amazon's recommendation algorithm is therefore a key element in using AI to improve the personalization of its website. For example, one of the baseline recommendation models that Amazon uses is item-to-item collaborative filtering, which scales to massive data sets and produces high-quality recommendations in real-time.\n",
    "\n",
    "----------------\n",
    "## **Objective:**\n",
    "----------------\n",
    "\n",
    "You are a Data Science Manager at Amazon, and have been given the task of building a recommendation system to recommend products to customers based on their previous ratings for other products. You have a collection of labeled data of Amazon reviews of products. The goal is to extract meaningful insights from the data and build a recommendation system that helps in recommending products to online consumers.\n",
    "\n",
    "-----------------------------\n",
    "## **Dataset:** \n",
    "-----------------------------\n",
    "\n",
    "The Amazon dataset contains the following attributes:\n",
    "\n",
    "- **userId:** Every user identified with a unique id\n",
    "- **productId:** Every product identified with a unique id\n",
    "- **Rating:** The rating of the corresponding product by the corresponding user\n",
    "- **timestamp:** Time of the rating. We **will not use this column** to solve the current problem"
   ]
  },
  {
   "cell_type": "markdown",
   "metadata": {
    "id": "nmdPxJ2Q7W7p"
   },
   "source": [
    "**Note:** The code has some user defined functions that will be usefull while making recommendations and measure model performance, you can use these functions or can create your own functions. "
   ]
  },
  {
   "cell_type": "markdown",
   "metadata": {
    "id": "UoRfgjS2yekq"
   },
   "source": [
    "Sometimes, the installation of the surprise library, which is used to build recommendation systems, faces issues in Jupyter. To avoid any issues, it is advised to use **Google Colab** for this project.\n",
    "\n",
    "Let's start by mounting the Google drive on Colab."
   ]
  },
  {
   "cell_type": "code",
   "execution_count": 9,
   "metadata": {
    "id": "GZ0YAszcT4zK",
    "tags": []
   },
   "outputs": [],
   "source": [
    "# from google.colab import drive\n",
    "# drive.mount('/content/drive')"
   ]
  },
  {
   "cell_type": "markdown",
   "metadata": {
    "id": "0Ibk07-Cyekt"
   },
   "source": [
    "**Installing surprise library**"
   ]
  },
  {
   "cell_type": "markdown",
   "metadata": {
    "id": "7fIt4jcFIm76"
   },
   "source": [
    "## **Importing the necessary libraries and overview of the dataset**"
   ]
  },
  {
   "cell_type": "code",
   "execution_count": 5,
   "metadata": {
    "id": "jzu2P-TT5JtP"
   },
   "outputs": [],
   "source": [
    "import pandas as pd\n",
    "import seaborn as sns"
   ]
  },
  {
   "cell_type": "markdown",
   "metadata": {
    "id": "NrXYJAv95JtP"
   },
   "source": [
    "### **Loading the data**\n",
    "- Import the Dataset\n",
    "- Add column names ['user_id', 'prod_id', 'rating', 'timestamp']\n",
    "- Drop the column timestamp\n",
    "- Copy the data to another DataFrame called **df**"
   ]
  },
  {
   "cell_type": "code",
   "execution_count": 7,
   "metadata": {
    "id": "JGb-Hk1B5JtP",
    "tags": []
   },
   "outputs": [
    {
     "data": {
      "text/html": [
       "<div>\n",
       "<style scoped>\n",
       "    .dataframe tbody tr th:only-of-type {\n",
       "        vertical-align: middle;\n",
       "    }\n",
       "\n",
       "    .dataframe tbody tr th {\n",
       "        vertical-align: top;\n",
       "    }\n",
       "\n",
       "    .dataframe thead th {\n",
       "        text-align: right;\n",
       "    }\n",
       "</style>\n",
       "<table border=\"1\" class=\"dataframe\">\n",
       "  <thead>\n",
       "    <tr style=\"text-align: right;\">\n",
       "      <th></th>\n",
       "      <th>AKM1MP6P0OYPR</th>\n",
       "      <th>0132793040</th>\n",
       "      <th>5.0</th>\n",
       "      <th>1365811200</th>\n",
       "    </tr>\n",
       "  </thead>\n",
       "  <tbody>\n",
       "    <tr>\n",
       "      <th>0</th>\n",
       "      <td>A2CX7LUOHB2NDG</td>\n",
       "      <td>0321732944</td>\n",
       "      <td>5.0</td>\n",
       "      <td>1341100800</td>\n",
       "    </tr>\n",
       "    <tr>\n",
       "      <th>1</th>\n",
       "      <td>A2NWSAGRHCP8N5</td>\n",
       "      <td>0439886341</td>\n",
       "      <td>1.0</td>\n",
       "      <td>1367193600</td>\n",
       "    </tr>\n",
       "    <tr>\n",
       "      <th>2</th>\n",
       "      <td>A2WNBOD3WNDNKT</td>\n",
       "      <td>0439886341</td>\n",
       "      <td>3.0</td>\n",
       "      <td>1374451200</td>\n",
       "    </tr>\n",
       "    <tr>\n",
       "      <th>3</th>\n",
       "      <td>A1GI0U4ZRJA8WN</td>\n",
       "      <td>0439886341</td>\n",
       "      <td>1.0</td>\n",
       "      <td>1334707200</td>\n",
       "    </tr>\n",
       "    <tr>\n",
       "      <th>4</th>\n",
       "      <td>A1QGNMC6O1VW39</td>\n",
       "      <td>0511189877</td>\n",
       "      <td>5.0</td>\n",
       "      <td>1397433600</td>\n",
       "    </tr>\n",
       "  </tbody>\n",
       "</table>\n",
       "</div>"
      ],
      "text/plain": [
       "    AKM1MP6P0OYPR  0132793040  5.0  1365811200\n",
       "0  A2CX7LUOHB2NDG  0321732944  5.0  1341100800\n",
       "1  A2NWSAGRHCP8N5  0439886341  1.0  1367193600\n",
       "2  A2WNBOD3WNDNKT  0439886341  3.0  1374451200\n",
       "3  A1GI0U4ZRJA8WN  0439886341  1.0  1334707200\n",
       "4  A1QGNMC6O1VW39  0511189877  5.0  1397433600"
      ]
     },
     "execution_count": 7,
     "metadata": {},
     "output_type": "execute_result"
    }
   ],
   "source": [
    "# Load the dataset\n",
    "df = pd.read_csv('ratings_Electronics.csv')\n",
    "\n",
    "# Display the first few rows\n",
    "df.head()"
   ]
  },
  {
   "cell_type": "code",
   "execution_count": 11,
   "metadata": {
    "tags": []
   },
   "outputs": [],
   "source": [
    "# Assign column names to the DataFrame\n",
    "df.columns = ['user_id', 'prod_id', 'rating', 'timestamp']"
   ]
  },
  {
   "cell_type": "code",
   "execution_count": 13,
   "metadata": {
    "tags": []
   },
   "outputs": [],
   "source": [
    "# Drop the 'timestamp' column\n",
    "df = df.drop('timestamp', axis=1)"
   ]
  },
  {
   "cell_type": "code",
   "execution_count": 15,
   "metadata": {
    "tags": []
   },
   "outputs": [
    {
     "data": {
      "text/html": [
       "<div>\n",
       "<style scoped>\n",
       "    .dataframe tbody tr th:only-of-type {\n",
       "        vertical-align: middle;\n",
       "    }\n",
       "\n",
       "    .dataframe tbody tr th {\n",
       "        vertical-align: top;\n",
       "    }\n",
       "\n",
       "    .dataframe thead th {\n",
       "        text-align: right;\n",
       "    }\n",
       "</style>\n",
       "<table border=\"1\" class=\"dataframe\">\n",
       "  <thead>\n",
       "    <tr style=\"text-align: right;\">\n",
       "      <th></th>\n",
       "      <th>user_id</th>\n",
       "      <th>prod_id</th>\n",
       "      <th>rating</th>\n",
       "    </tr>\n",
       "  </thead>\n",
       "  <tbody>\n",
       "    <tr>\n",
       "      <th>0</th>\n",
       "      <td>A2CX7LUOHB2NDG</td>\n",
       "      <td>0321732944</td>\n",
       "      <td>5.0</td>\n",
       "    </tr>\n",
       "    <tr>\n",
       "      <th>1</th>\n",
       "      <td>A2NWSAGRHCP8N5</td>\n",
       "      <td>0439886341</td>\n",
       "      <td>1.0</td>\n",
       "    </tr>\n",
       "    <tr>\n",
       "      <th>2</th>\n",
       "      <td>A2WNBOD3WNDNKT</td>\n",
       "      <td>0439886341</td>\n",
       "      <td>3.0</td>\n",
       "    </tr>\n",
       "    <tr>\n",
       "      <th>3</th>\n",
       "      <td>A1GI0U4ZRJA8WN</td>\n",
       "      <td>0439886341</td>\n",
       "      <td>1.0</td>\n",
       "    </tr>\n",
       "    <tr>\n",
       "      <th>4</th>\n",
       "      <td>A1QGNMC6O1VW39</td>\n",
       "      <td>0511189877</td>\n",
       "      <td>5.0</td>\n",
       "    </tr>\n",
       "  </tbody>\n",
       "</table>\n",
       "</div>"
      ],
      "text/plain": [
       "          user_id     prod_id  rating\n",
       "0  A2CX7LUOHB2NDG  0321732944     5.0\n",
       "1  A2NWSAGRHCP8N5  0439886341     1.0\n",
       "2  A2WNBOD3WNDNKT  0439886341     3.0\n",
       "3  A1GI0U4ZRJA8WN  0439886341     1.0\n",
       "4  A1QGNMC6O1VW39  0511189877     5.0"
      ]
     },
     "execution_count": 15,
     "metadata": {},
     "output_type": "execute_result"
    }
   ],
   "source": [
    "df.head()"
   ]
  },
  {
   "cell_type": "markdown",
   "metadata": {
    "id": "OVQnSG5g_9uX"
   },
   "source": [
    "**As this dataset is very large and has 7,824,482 observations, it is not computationally possible to build a model using this. Moreover, many users have only rated a few products and also some products are rated by very few users. Hence, we can reduce the dataset by considering certain logical assumptions.**\n",
    "\n",
    "Here, we will be taking users who have given at least 50 ratings, and the products that have at least 5 ratings, as when we shop online we prefer to have some number of ratings of a product. "
   ]
  },
  {
   "cell_type": "code",
   "execution_count": 17,
   "metadata": {
    "id": "4yt9W7Q32EQQ",
    "tags": []
   },
   "outputs": [],
   "source": [
    "# Get the column containing the users\n",
    "users = df.user_id\n",
    "\n",
    "# Create a dictionary from users to their number of ratings\n",
    "ratings_count = dict()\n",
    "\n",
    "for user in users:\n",
    "\n",
    "    # If we already have the user, just add 1 to their rating count\n",
    "    if user in ratings_count:        \n",
    "        ratings_count[user] += 1\n",
    "  \n",
    "    # Otherwise, set their rating count to 1\n",
    "    else:\n",
    "        ratings_count[user] = 1"
   ]
  },
  {
   "cell_type": "code",
   "execution_count": 19,
   "metadata": {
    "id": "19XB60dq2EQR",
    "tags": []
   },
   "outputs": [],
   "source": [
    "# We want our users to have at least 50 ratings to be considered\n",
    "RATINGS_CUTOFF = 50\n",
    "\n",
    "remove_users = []\n",
    "\n",
    "for user, num_ratings in ratings_count.items():\n",
    "    if num_ratings < RATINGS_CUTOFF:\n",
    "        remove_users.append(user)\n",
    "\n",
    "df = df.loc[ ~ df.user_id.isin(remove_users)]"
   ]
  },
  {
   "cell_type": "code",
   "execution_count": 21,
   "metadata": {
    "id": "33UzK1D82EQS",
    "tags": []
   },
   "outputs": [],
   "source": [
    "# Get the column containing the products\n",
    "prods = df.prod_id\n",
    "\n",
    "# Create a dictionary from products to their number of ratings\n",
    "ratings_count = dict()\n",
    "\n",
    "for prod in prods:\n",
    "    \n",
    "    # If we already have the product, just add 1 to its rating count\n",
    "    if prod in ratings_count:\n",
    "        ratings_count[prod] += 1\n",
    "    \n",
    "    # Otherwise, set their rating count to 1\n",
    "    else:\n",
    "        ratings_count[prod] = 1    "
   ]
  },
  {
   "cell_type": "code",
   "execution_count": 22,
   "metadata": {
    "id": "u6YE-lUp2EQT",
    "tags": []
   },
   "outputs": [],
   "source": [
    "# We want our item to have at least 5 ratings to be considered\n",
    "RATINGS_CUTOFF = 5\n",
    "\n",
    "remove_users = []\n",
    "\n",
    "for user, num_ratings in ratings_count.items():\n",
    "    if num_ratings < RATINGS_CUTOFF:\n",
    "        remove_users.append(user)\n",
    "\n",
    "df_final = df.loc[~ df.prod_id.isin(remove_users)]"
   ]
  },
  {
   "cell_type": "code",
   "execution_count": 25,
   "metadata": {
    "id": "aL1JZ00o5JtQ",
    "tags": []
   },
   "outputs": [
    {
     "data": {
      "text/html": [
       "<div>\n",
       "<style scoped>\n",
       "    .dataframe tbody tr th:only-of-type {\n",
       "        vertical-align: middle;\n",
       "    }\n",
       "\n",
       "    .dataframe tbody tr th {\n",
       "        vertical-align: top;\n",
       "    }\n",
       "\n",
       "    .dataframe thead th {\n",
       "        text-align: right;\n",
       "    }\n",
       "</style>\n",
       "<table border=\"1\" class=\"dataframe\">\n",
       "  <thead>\n",
       "    <tr style=\"text-align: right;\">\n",
       "      <th></th>\n",
       "      <th>user_id</th>\n",
       "      <th>prod_id</th>\n",
       "      <th>rating</th>\n",
       "    </tr>\n",
       "  </thead>\n",
       "  <tbody>\n",
       "    <tr>\n",
       "      <th>1309</th>\n",
       "      <td>A3LDPF5FMB782Z</td>\n",
       "      <td>1400501466</td>\n",
       "      <td>5.0</td>\n",
       "    </tr>\n",
       "    <tr>\n",
       "      <th>1321</th>\n",
       "      <td>A1A5KUIIIHFF4U</td>\n",
       "      <td>1400501466</td>\n",
       "      <td>1.0</td>\n",
       "    </tr>\n",
       "    <tr>\n",
       "      <th>1334</th>\n",
       "      <td>A2XIOXRRYX0KZY</td>\n",
       "      <td>1400501466</td>\n",
       "      <td>3.0</td>\n",
       "    </tr>\n",
       "    <tr>\n",
       "      <th>1450</th>\n",
       "      <td>AW3LX47IHPFRL</td>\n",
       "      <td>1400501466</td>\n",
       "      <td>5.0</td>\n",
       "    </tr>\n",
       "    <tr>\n",
       "      <th>1455</th>\n",
       "      <td>A1E3OB6QMBKRYZ</td>\n",
       "      <td>1400501466</td>\n",
       "      <td>1.0</td>\n",
       "    </tr>\n",
       "  </tbody>\n",
       "</table>\n",
       "</div>"
      ],
      "text/plain": [
       "             user_id     prod_id  rating\n",
       "1309  A3LDPF5FMB782Z  1400501466     5.0\n",
       "1321  A1A5KUIIIHFF4U  1400501466     1.0\n",
       "1334  A2XIOXRRYX0KZY  1400501466     3.0\n",
       "1450   AW3LX47IHPFRL  1400501466     5.0\n",
       "1455  A1E3OB6QMBKRYZ  1400501466     1.0"
      ]
     },
     "execution_count": 25,
     "metadata": {},
     "output_type": "execute_result"
    }
   ],
   "source": [
    "# Print a few rows of the imported dataset\n",
    "df_final.head()"
   ]
  },
  {
   "cell_type": "markdown",
   "metadata": {
    "id": "GuPoy_XfxhXZ"
   },
   "source": [
    "## **Exploratory Data Analysis**"
   ]
  },
  {
   "cell_type": "markdown",
   "metadata": {
    "id": "s0d0bWeG-sVB"
   },
   "source": [
    "### **Shape of the data**"
   ]
  },
  {
   "cell_type": "markdown",
   "metadata": {
    "id": "qyBVTRDTyek0"
   },
   "source": [
    "### **Check the number of rows and columns and provide observations.**"
   ]
  },
  {
   "cell_type": "code",
   "execution_count": 27,
   "metadata": {
    "id": "fJ4eQKaY5JtQ",
    "tags": []
   },
   "outputs": [
    {
     "data": {
      "text/plain": [
       "(65290, 3)"
      ]
     },
     "execution_count": 27,
     "metadata": {},
     "output_type": "execute_result"
    }
   ],
   "source": [
    "# Check the number of rows and columns and provide observations\n",
    "df_final.shape"
   ]
  },
  {
   "cell_type": "markdown",
   "metadata": {
    "id": "Slp-fgWQ-sVD"
   },
   "source": [
    "__Observations:__\n",
    "\n",
    "\t•\tThe dataset contains 65,290 rows and 3 columns.\n",
    "\t•\tEach row represents a unique user-product rating.\n",
    "\t•\tThe three columns are likely ‘user_id’, ‘prod_id’, and ‘rating’.\n",
    "\t•\tThis indicates that there are 65,290 individual ratings in the dataset.\n",
    "\t•\tThe dataset is substantial and should provide a good foundation for building a recommendation system."
   ]
  },
  {
   "cell_type": "markdown",
   "metadata": {
    "id": "lAMWm0nC-sVF"
   },
   "source": [
    "### **Data types**"
   ]
  },
  {
   "cell_type": "code",
   "execution_count": 29,
   "metadata": {
    "id": "SVrgMkye5JtQ",
    "tags": []
   },
   "outputs": [
    {
     "name": "stdout",
     "output_type": "stream",
     "text": [
      "user_id     object\n",
      "prod_id     object\n",
      "rating     float64\n",
      "dtype: object\n"
     ]
    }
   ],
   "source": [
    "# Check data types of each column\n",
    "print(df_final.dtypes)"
   ]
  },
  {
   "cell_type": "markdown",
   "metadata": {
    "id": "z4fOE02D-sVF"
   },
   "source": [
    "__Observations:__\n",
    "\n",
    "\t•\tuser_id: The data type is object, which is suitable since user IDs are typically alphanumeric strings.\n",
    "\t•\tprod_id: Also object, appropriate for product IDs that may contain letters and numbers.\n",
    "\t•\trating: The data type is float64. If your ratings are whole numbers (e.g., 1.0, 2.0, etc.), you might consider converting them to integers to save memory and for consistency."
   ]
  },
  {
   "cell_type": "code",
   "execution_count": 31,
   "metadata": {
    "tags": []
   },
   "outputs": [
    {
     "name": "stderr",
     "output_type": "stream",
     "text": [
      "/var/folders/xb/1_lt39gx345g3vch96cw5jcr0000gn/T/ipykernel_1993/978168242.py:2: SettingWithCopyWarning: \n",
      "A value is trying to be set on a copy of a slice from a DataFrame.\n",
      "Try using .loc[row_indexer,col_indexer] = value instead\n",
      "\n",
      "See the caveats in the documentation: https://pandas.pydata.org/pandas-docs/stable/user_guide/indexing.html#returning-a-view-versus-a-copy\n",
      "  df_final['rating'] = df_final['rating'].astype(int)\n"
     ]
    }
   ],
   "source": [
    "# Convert ratings to integer type if applicable\n",
    "df_final['rating'] = df_final['rating'].astype(int)"
   ]
  },
  {
   "cell_type": "code",
   "execution_count": 33,
   "metadata": {
    "tags": []
   },
   "outputs": [
    {
     "name": "stdout",
     "output_type": "stream",
     "text": [
      "user_id    object\n",
      "prod_id    object\n",
      "rating      int64\n",
      "dtype: object\n"
     ]
    }
   ],
   "source": [
    "# Check data types of each column\n",
    "print(df_final.dtypes)"
   ]
  },
  {
   "cell_type": "markdown",
   "metadata": {
    "id": "lTMpOROT-sVG",
    "tags": []
   },
   "source": [
    "### **Checking for missing values**"
   ]
  },
  {
   "cell_type": "code",
   "execution_count": 35,
   "metadata": {
    "id": "vt-VEjMA5JtQ",
    "tags": []
   },
   "outputs": [
    {
     "name": "stdout",
     "output_type": "stream",
     "text": [
      "user_id    0\n",
      "prod_id    0\n",
      "rating     0\n",
      "dtype: int64\n"
     ]
    }
   ],
   "source": [
    "# Check for missing values in each column\n",
    "print(df_final.isnull().sum())"
   ]
  },
  {
   "cell_type": "markdown",
   "metadata": {
    "id": "qMWuBNhI5JtR"
   },
   "source": [
    "__Observations:__\n",
    "\n",
    "\t•\tThere are no missing values in any of the columns.\n",
    "\t•\tThis indicates that the dataset is complete with respect to these fields, and no further action is needed for missing data."
   ]
  },
  {
   "cell_type": "markdown",
   "metadata": {
    "id": "wETrCg48-sVG"
   },
   "source": [
    "### **Summary Statistics**"
   ]
  },
  {
   "cell_type": "code",
   "execution_count": 37,
   "metadata": {
    "id": "tYm30MXR5JtR",
    "tags": []
   },
   "outputs": [
    {
     "name": "stdout",
     "output_type": "stream",
     "text": [
      "count    65290.000000\n",
      "mean         4.294808\n",
      "std          0.988915\n",
      "min          1.000000\n",
      "25%          4.000000\n",
      "50%          5.000000\n",
      "75%          5.000000\n",
      "max          5.000000\n",
      "Name: rating, dtype: float64\n"
     ]
    }
   ],
   "source": [
    "# Get summary statistics of the 'rating' column\n",
    "print(df_final['rating'].describe())"
   ]
  },
  {
   "cell_type": "markdown",
   "metadata": {
    "id": "VqW50EIJxhXc"
   },
   "source": [
    "__Observations:__\n",
    "\n",
    "\t•\tCount: There are 65,290 ratings, confirming the number of rows in the dataset.\n",
    "\t•\tMean (Average Rating): Approximately 4.29, suggesting that users generally give high ratings.\n",
    "\t•\tStandard Deviation: Around 0.99, indicating that the ratings are somewhat clustered around the mean, with moderate variability.\n",
    "\t•\tMinimum Rating: The lowest rating given is 1.\n",
    "\t•\t25th Percentile (Q1): 25% of the ratings are 4 or below.\n",
    "\t•\tMedian (Q2): The median rating is 5, meaning that 50% of the ratings are 5.\n",
    "\t•\t75th Percentile (Q3): 75% of the ratings are 5 or below.\n",
    "\t•\tMaximum Rating: The highest rating is 5.\n",
    "\n",
    "__Interpretation:__\n",
    "\n",
    "\t•\tThe median and 75th percentile are both 5, indicating that a significant portion of the ratings are at the maximum value.\n",
    "\t•\tThe data is skewed towards higher ratings, which is common in user-generated product reviews.\n",
    "\t•\tThe high average rating suggests that users are generally satisfied with the products.\n",
    "\t•\tThis skewness may impact the recommendation system by reducing the variance in ratings, potentially making it harder to differentiate between products based solely on rating scores."
   ]
  },
  {
   "cell_type": "markdown",
   "metadata": {
    "id": "ywyFrZIf5JtR"
   },
   "source": [
    "### **Checking the rating distribution**"
   ]
  },
  {
   "cell_type": "code",
   "execution_count": 39,
   "metadata": {
    "id": "QbqhbEVe-sVH",
    "tags": []
   },
   "outputs": [
    {
     "data": {
      "image/png": "[encoded data removed]",
      "text/plain": [
       "<Figure size 800x600 with 1 Axes>"
      ]
     },
     "metadata": {},
     "output_type": "display_data"
    }
   ],
   "source": [
    "# Import matplotlib for plotting\n",
    "import matplotlib.pyplot as plt\n",
    "\n",
    "# Create a bar plot of the rating distribution\n",
    "rating_counts = df_final['rating'].value_counts().sort_index()\n",
    "rating_counts.plot(kind='bar', figsize=(8,6), color='skyblue')\n",
    "\n",
    "# Labeling the plot\n",
    "plt.xlabel('Rating')\n",
    "plt.ylabel('Number of Ratings')\n",
    "plt.title('Distribution of Product Ratings')\n",
    "plt.xticks(rotation=0)\n",
    "plt.show()"
   ]
  },
  {
   "cell_type": "markdown",
   "metadata": {
    "id": "t0jONrQv-sVH"
   },
   "source": [
    "__Observarion:__\n",
    "\n",
    "\t•\tRating 1: 1,852 occurrences (approximately 2.84% of total ratings).\n",
    "\t•\tRating 2: 2,515 occurrences (approximately 3.85%).\n",
    "\t•\tRating 3: 6,481 occurrences (approximately 9.93%).\n",
    "\t•\tRating 4: 18,127 occurrences (approximately 27.77%).\n",
    "\t•\tRating 5: 36,315 occurrences (approximately 55.61%).\n",
    "\n",
    "__Interpretation:__\n",
    "\n",
    "\t•\tOver 83% of the ratings are 4 or 5, reinforcing the observation that users tend to rate products highly.\n",
    "\t•\tRatings of 1 and 2 are relatively rare, collectively making up about 6.7% of all ratings.\n",
    "\t•\tThe distribution is heavily right-skewed, which might lead to challenges in distinguishing product quality based solely on ratings.\n",
    "\t•\tThis positive bias may need to be considered when developing the recommendation algorithm to ensure it doesn’t over-recommend popular products while neglecting niche or new items.\n"
   ]
  },
  {
   "cell_type": "markdown",
   "metadata": {
    "id": "HefpLdLJxhXd"
   },
   "source": [
    "### **Checking the number of unique users and items in the dataset**"
   ]
  },
  {
   "cell_type": "code",
   "execution_count": 43,
   "metadata": {
    "id": "NbSom7195JtR",
    "tags": []
   },
   "outputs": [
    {
     "name": "stdout",
     "output_type": "stream",
     "text": [
      "Total number of rows: 65290\n",
      "Number of unique users: 1540\n",
      "Number of unique products: 5689\n"
     ]
    }
   ],
   "source": [
    "# Total number of rows\n",
    "total_rows = df_final.shape[0]\n",
    "print('Total number of rows:', total_rows)\n",
    "\n",
    "# Number of unique user IDs\n",
    "unique_users = df_final['user_id'].nunique()\n",
    "print('Number of unique users:', unique_users)\n",
    "\n",
    "# Number of unique product IDs\n",
    "unique_products = df_final['prod_id'].nunique()\n",
    "print('Number of unique products:', unique_products)"
   ]
  },
  {
   "cell_type": "markdown",
   "metadata": {
    "id": "Qwgz6CUt-sVI"
   },
   "source": [
    "Observations:\n",
    "\n",
    "\t•\tUnique Users: 1,540 users have provided ratings.\n",
    "\t•\tUnique Products: 5,689 products have been rated.\n",
    "\t•\tTotal Ratings: 65,290 ratings in total."
   ]
  },
  {
   "cell_type": "markdown",
   "metadata": {
    "id": "RfDnhSS4-sVI"
   },
   "source": [
    "### **Users with the most number of ratings**"
   ]
  },
  {
   "cell_type": "code",
   "execution_count": 70,
   "metadata": {
    "id": "n7MX452q5JtR",
    "tags": []
   },
   "outputs": [
    {
     "name": "stdout",
     "output_type": "stream",
     "text": [
      "Top 10 users based on the number of ratings:\n",
      "user_id\n",
      "ADLVFFE4VBT8      295\n",
      "A3OXHLG6DIBRW8    230\n",
      "A1ODOGXEYECQQ8    217\n",
      "A36K2N527TXXJN    212\n",
      "A25C2M3QF9G7OQ    203\n",
      "A680RUE1FDO8B     196\n",
      "A1UQBFCERIP7VJ    193\n",
      "A22CW0ZHY3NJH8    193\n",
      "AWPODHOB4GFWL     184\n",
      "AGVWTYW0ULXHT     179\n",
      "Name: count, dtype: int64\n"
     ]
    }
   ],
   "source": [
    "# Get the top 10 users by number of ratings\n",
    "top_users = df_final['user_id'].value_counts().head(10)\n",
    "print('Top 10 users based on the number of ratings:')\n",
    "print(top_users)"
   ]
  },
  {
   "cell_type": "markdown",
   "metadata": {
    "id": "1X2w_jt9-sVI"
   },
   "source": [
    "__Observations:__\n",
    "\n",
    "\t•\tThe most active user is ‘ADLVFFE4VBT8’, with 295 ratings.\n",
    "\t•\tThe top 10 users have contributed between 179 and 295 ratings each.\n",
    "\t•\tThese users are significantly more active than the average user, who has rated about 42 products.\n",
    "\n",
    "Interpretation:\n",
    "\n",
    "\t•\tPower Users: These top users are considered power users and can have a substantial impact on the overall ratings and trends in the data.\n",
    "\t•\tTheir extensive rating history can provide valuable insights into product quality and user preferences.\n",
    "\t•\tInfluence on Recommendations: The preferences of these users might disproportionately affect recommendation algorithms, especially if not properly normalized.\n",
    "\t•\tUser Engagement: Understanding the behavior of these active users can help tailor strategies to enhance user engagement and retention."
   ]
  },
  {
   "cell_type": "markdown",
   "metadata": {
    "id": "EnYTx-Ol-sVg"
   },
   "source": [
    "**Now that we have explored and prepared the data, let's build the first recommendation system.**"
   ]
  },
  {
   "cell_type": "markdown",
   "metadata": {
    "id": "6xYGrGVy5JtS"
   },
   "source": [
    "## **Model 1: Rank Based Recommendation System**"
   ]
  },
  {
   "cell_type": "code",
   "execution_count": 62,
   "metadata": {
    "id": "yxZTj1UPxhXh",
    "scrolled": true
   },
   "outputs": [
    {
     "data": {
      "text/plain": [
       "prod_id\n",
       "1400501466    3.333333\n",
       "1400532655    3.833333\n",
       "1400599997    4.000000\n",
       "9983891212    4.875000\n",
       "B00000DM9W    5.000000\n",
       "                ...   \n",
       "B00L21HC7A    4.625000\n",
       "B00L2442H0    4.916667\n",
       "B00L26YDA4    4.384615\n",
       "B00L3YHF6O    5.000000\n",
       "B00LGQ6HL8    5.000000\n",
       "Name: rating, Length: 5689, dtype: float64"
      ]
     },
     "execution_count": 62,
     "metadata": {},
     "output_type": "execute_result"
    }
   ],
   "source": [
    "# Calculate the average rating for each product\n",
    "product_avg_rating = df_final.groupby('prod_id')['rating'].mean()\n",
    "product_avg_rating"
   ]
  },
  {
   "cell_type": "code",
   "execution_count": 64,
   "metadata": {
    "id": "zKU__5s1xhXi"
   },
   "outputs": [
    {
     "data": {
      "text/plain": [
       "prod_id\n",
       "1400501466     6\n",
       "1400532655     6\n",
       "1400599997     5\n",
       "9983891212     8\n",
       "B00000DM9W     5\n",
       "              ..\n",
       "B00L21HC7A    16\n",
       "B00L2442H0    12\n",
       "B00L26YDA4    13\n",
       "B00L3YHF6O    14\n",
       "B00LGQ6HL8     5\n",
       "Name: rating, Length: 5689, dtype: int64"
      ]
     },
     "execution_count": 64,
     "metadata": {},
     "output_type": "execute_result"
    }
   ],
   "source": [
    "# Calculate the count of ratings for each product\n",
    "product_rating_count = df_final.groupby('prod_id')['rating'].count()\n",
    "product_rating_count"
   ]
  },
  {
   "cell_type": "code",
   "execution_count": 66,
   "metadata": {
    "tags": []
   },
   "outputs": [],
   "source": [
    "# Create a DataFrame with the average rating and rating count\n",
    "final_rating = pd.DataFrame({\n",
    "    'avg_rating': product_avg_rating,\n",
    "    'rating_count': product_rating_count\n",
    "})"
   ]
  },
  {
   "cell_type": "code",
   "execution_count": 68,
   "metadata": {
    "tags": []
   },
   "outputs": [],
   "source": [
    "# Sort the DataFrame by average rating in descending order\n",
    "final_rating = final_rating.sort_values(by='avg_rating', ascending=False)"
   ]
  },
  {
   "cell_type": "code",
   "execution_count": 70,
   "metadata": {
    "tags": []
   },
   "outputs": [
    {
     "data": {
      "text/html": [
       "<div>\n",
       "<style scoped>\n",
       "    .dataframe tbody tr th:only-of-type {\n",
       "        vertical-align: middle;\n",
       "    }\n",
       "\n",
       "    .dataframe tbody tr th {\n",
       "        vertical-align: top;\n",
       "    }\n",
       "\n",
       "    .dataframe thead th {\n",
       "        text-align: right;\n",
       "    }\n",
       "</style>\n",
       "<table border=\"1\" class=\"dataframe\">\n",
       "  <thead>\n",
       "    <tr style=\"text-align: right;\">\n",
       "      <th></th>\n",
       "      <th>avg_rating</th>\n",
       "      <th>rating_count</th>\n",
       "    </tr>\n",
       "    <tr>\n",
       "      <th>prod_id</th>\n",
       "      <th></th>\n",
       "      <th></th>\n",
       "    </tr>\n",
       "  </thead>\n",
       "  <tbody>\n",
       "    <tr>\n",
       "      <th>B00LGQ6HL8</th>\n",
       "      <td>5.0</td>\n",
       "      <td>5</td>\n",
       "    </tr>\n",
       "    <tr>\n",
       "      <th>B003DZJQQI</th>\n",
       "      <td>5.0</td>\n",
       "      <td>14</td>\n",
       "    </tr>\n",
       "    <tr>\n",
       "      <th>B005FDXF2C</th>\n",
       "      <td>5.0</td>\n",
       "      <td>7</td>\n",
       "    </tr>\n",
       "    <tr>\n",
       "      <th>B00I6CVPVC</th>\n",
       "      <td>5.0</td>\n",
       "      <td>7</td>\n",
       "    </tr>\n",
       "    <tr>\n",
       "      <th>B00B9KOCYA</th>\n",
       "      <td>5.0</td>\n",
       "      <td>8</td>\n",
       "    </tr>\n",
       "  </tbody>\n",
       "</table>\n",
       "</div>"
      ],
      "text/plain": [
       "            avg_rating  rating_count\n",
       "prod_id                             \n",
       "B00LGQ6HL8         5.0             5\n",
       "B003DZJQQI         5.0            14\n",
       "B005FDXF2C         5.0             7\n",
       "B00I6CVPVC         5.0             7\n",
       "B00B9KOCYA         5.0             8"
      ]
     },
     "execution_count": 70,
     "metadata": {},
     "output_type": "execute_result"
    }
   ],
   "source": [
    "final_rating.head()"
   ]
  },
  {
   "cell_type": "code",
   "execution_count": 91,
   "metadata": {
    "tags": []
   },
   "outputs": [
    {
     "name": "stderr",
     "output_type": "stream",
     "text": [
      "/opt/anaconda3/lib/python3.11/site-packages/seaborn/_oldcore.py:1119: FutureWarning: use_inf_as_na option is deprecated and will be removed in a future version. Convert inf values to NaN before operating instead.\n",
      "  with pd.option_context('mode.use_inf_as_na', True):\n",
      "/opt/anaconda3/lib/python3.11/site-packages/seaborn/_oldcore.py:1119: FutureWarning: use_inf_as_na option is deprecated and will be removed in a future version. Convert inf values to NaN before operating instead.\n",
      "  with pd.option_context('mode.use_inf_as_na', True):\n"
     ]
    },
    {
     "data": {
      "image/png": "[encoded data removed]",
      "text/plain": [
       "<Figure size 1400x600 with 2 Axes>"
      ]
     },
     "metadata": {},
     "output_type": "display_data"
    }
   ],
   "source": [
    "# Set the style for seaborn\n",
    "sns.set_style('whitegrid')\n",
    "\n",
    "# Create a figure with two subplots side by side\n",
    "fig, axes = plt.subplots(1, 2, figsize=(14,6))\n",
    "\n",
    "# Plot the distribution of average ratings on the first subplot\n",
    "sns.histplot(final_rating['avg_rating'], bins=5, kde=False, color='skyblue', edgecolor='black', ax=axes[0])\n",
    "axes[0].set_title('Distribution of Average Ratings')\n",
    "axes[0].set_xlabel('Average Rating')\n",
    "axes[0].set_ylabel('Number of Products')\n",
    "axes[0].set_xticks([1, 2, 3, 4, 5])\n",
    "\n",
    "# Plot the distribution of rating counts on the second subplot\n",
    "sns.histplot(final_rating['rating_count'], bins=50, kde=False, color='salmon', edgecolor='black', ax=axes[1])\n",
    "axes[1].set_title('Distribution of Rating Counts')\n",
    "axes[1].set_xlabel('Number of Ratings')\n",
    "axes[1].set_ylabel('Number of Products')\n",
    "\n",
    "# Adjust layout to prevent overlap\n",
    "plt.tight_layout()\n",
    "\n",
    "# Display the plots\n",
    "plt.show()"
   ]
  },
  {
   "cell_type": "markdown",
   "metadata": {},
   "source": [
    "#### Function to Get the Top N Products Based on Highest Average Rating and Minimum Interactions"
   ]
  },
  {
   "cell_type": "code",
   "execution_count": 72,
   "metadata": {
    "tags": []
   },
   "outputs": [],
   "source": [
    "def top_n_products(data, n, min_interactions):\n",
    "    \"\"\"\n",
    "    Returns the top n products based on highest average rating and minimum number of interactions.\n",
    "\n",
    "    Parameters:\n",
    "    data (DataFrame): The DataFrame containing 'avg_rating' and 'rating_count'.\n",
    "    n (int): The number of top products to return.\n",
    "    min_interactions (int): The minimum number of ratings a product must have.\n",
    "\n",
    "    Returns:\n",
    "    DataFrame: The top n products meeting the criteria.\n",
    "    \"\"\"\n",
    "    # Filter products with at least min_interactions ratings\n",
    "    filtered_data = data[data['rating_count'] >= min_interactions]\n",
    "    # Sort by average rating in descending order\n",
    "    top_products = filtered_data.sort_values(by='avg_rating', ascending=False).head(n)\n",
    "    return top_products"
   ]
  },
  {
   "cell_type": "code",
   "execution_count": 74,
   "metadata": {
    "tags": []
   },
   "outputs": [],
   "source": [
    "# Define the minimum number of interactions (e.g., 50)\n",
    "min_interactions = 50\n",
    "\n",
    "# Use the function to get the top products\n",
    "top_products = top_n_products(final_rating, n=10, min_interactions=min_interactions)"
   ]
  },
  {
   "cell_type": "markdown",
   "metadata": {
    "id": "F8l6373PxhXi"
   },
   "source": [
    "### **Recommending top 5 products with 50 minimum interactions based on popularity**"
   ]
  },
  {
   "cell_type": "code",
   "execution_count": 81,
   "metadata": {
    "id": "dBxdLiM_xhXi"
   },
   "outputs": [
    {
     "name": "stdout",
     "output_type": "stream",
     "text": [
      "            avg_rating  rating_count\n",
      "prod_id                             \n",
      "B001TH7GUU    4.871795            78\n",
      "B003ES5ZUU    4.864130           184\n",
      "B0019EHU8G    4.855556            90\n",
      "B006W8U2MU    4.824561            57\n",
      "B000QUUFRW    4.809524            84\n"
     ]
    }
   ],
   "source": [
    "# Define the minimum number of interactions\n",
    "min_interactions = 50\n",
    "\n",
    "# Get the top 5 products\n",
    "top_5_products = top_n_products(final_rating, n=5, min_interactions=min_interactions)\n",
    "\n",
    "# Display the top 5 products\n",
    "print(top_5_products)"
   ]
  },
  {
   "cell_type": "markdown",
   "metadata": {
    "id": "l9_xW_UMxhXj"
   },
   "source": [
    "### **Recommending top 5 products with 100 minimum interactions based on popularity**"
   ]
  },
  {
   "cell_type": "code",
   "execution_count": 83,
   "metadata": {
    "id": "dZgGZCUoxhXj"
   },
   "outputs": [
    {
     "name": "stdout",
     "output_type": "stream",
     "text": [
      "            avg_rating  rating_count\n",
      "prod_id                             \n",
      "B003ES5ZUU    4.864130           184\n",
      "B000N99BBC    4.772455           167\n",
      "B002WE6D44    4.770000           100\n",
      "B007WTAJTO    4.701220           164\n",
      "B002V88HFE    4.698113           106\n"
     ]
    }
   ],
   "source": [
    "# Define the minimum number of interactions\n",
    "min_interactions = 100\n",
    "\n",
    "# Get the top 5 products\n",
    "top_5_products = top_n_products(final_rating, n=5, min_interactions=min_interactions)\n",
    "\n",
    "# Display the top 5 products\n",
    "print(top_5_products)"
   ]
  },
  {
   "cell_type": "markdown",
   "metadata": {
    "id": "BL-m68a15JtT",
    "outputId": "69132b0f-8d3f-4798-f6a0-249e17a3c822"
   },
   "source": [
    "We have recommended the **top 5** products by using the popularity recommendation system. Now, let's build a recommendation system using **collaborative filtering.**"
   ]
  },
  {
   "cell_type": "markdown",
   "metadata": {
    "id": "sJI5kiiGvOOK"
   },
   "source": [
    "## **Model 2: Collaborative Filtering Recommendation System**"
   ]
  },
  {
   "cell_type": "markdown",
   "metadata": {
    "id": "skzc0N1_nVNB"
   },
   "source": [
    "### **Building a baseline user-user similarity based recommendation system**"
   ]
  },
  {
   "cell_type": "markdown",
   "metadata": {
    "id": "d4Uo_MYMnVNB"
   },
   "source": [
    "- Below, we are building **similarity-based recommendation systems** using `cosine` similarity and using **KNN to find similar users** which are the nearest neighbor to the given user.  \n",
    "- We will be using a new library, called `surprise`, to build the remaining models. Let's first import the necessary classes and functions from this library."
   ]
  },
  {
   "cell_type": "code",
   "execution_count": 97,
   "metadata": {
    "id": "UJ1wEylUpexj"
   },
   "outputs": [],
   "source": [
    "# To compute the accuracy of models\n",
    "from surprise import accuracy\n",
    "\n",
    "# Class is used to parse a file containing ratings, data should be in structure - user ; item ; rating\n",
    "from surprise.reader import Reader\n",
    "\n",
    "# Class for loading datasets\n",
    "from surprise.dataset import Dataset\n",
    "\n",
    "# For tuning model hyperparameters\n",
    "from surprise.model_selection import GridSearchCV\n",
    "\n",
    "# For splitting the rating data in train and test datasets\n",
    "from surprise.model_selection import train_test_split\n",
    "\n",
    "# For implementing similarity-based recommendation system\n",
    "from surprise.prediction_algorithms.knns import KNNBasic\n",
    "\n",
    "# For implementing matrix factorization based recommendation system\n",
    "from surprise.prediction_algorithms.matrix_factorization import SVD\n",
    "\n",
    "# for implementing K-Fold cross-validation\n",
    "from surprise.model_selection import KFold\n",
    "\n",
    "# For implementing clustering-based recommendation system\n",
    "from surprise import CoClustering"
   ]
  },
  {
   "cell_type": "markdown",
   "metadata": {
    "id": "54MqVAtDTsnl"
   },
   "source": [
    "**Before building the recommendation systems, let's  go over some basic terminologies we are going to use:**"
   ]
  },
  {
   "cell_type": "markdown",
   "metadata": {
    "id": "Qsxb3xhnTsnl"
   },
   "source": [
    "**Relevant item:** An item (product in this case) that is actually **rated higher than the threshold rating** is relevant, if the **actual rating is below the threshold then it is a non-relevant item**.  \n",
    "\n",
    "**Recommended item:** An item that's **predicted rating is higher than the threshold is a recommended item**, if the **predicted rating is below the threshold then that product will not be recommended to the user**.  \n"
   ]
  },
  {
   "cell_type": "markdown",
   "metadata": {
    "id": "moyLUHCuTsnl"
   },
   "source": [
    "**False Negative (FN):** It is the **frequency of relevant items that are not recommended to the user**. If the relevant items are not recommended to the user, then the user might not buy the product/item. This would result in the **loss of opportunity for the service provider**, which they would like to minimize.\n",
    "\n",
    "**False Positive (FP):** It is the **frequency of recommended items that are actually not relevant**. In this case, the recommendation system is not doing a good job of finding and recommending the relevant items to the user. This would result in **loss of resources for the service provider**, which they would also like to minimize."
   ]
  },
  {
   "cell_type": "markdown",
   "metadata": {
    "id": "Yuvc2VaZTsnl"
   },
   "source": [
    "**Recall:** It is the **fraction of actually relevant items that are recommended to the user**, i.e., if out of 10 relevant products, 6 are recommended to the user then recall is 0.60. Higher the value of recall better is the model. It is one of the metrics to do the performance assessment of classification models.\n",
    "\n",
    "**Precision:** It is the **fraction of recommended items that are relevant actually**, i.e., if out of 10 recommended items, 6 are found relevant by the user then precision is 0.60. The higher the value of precision better is the model. It is one of the metrics to do the performance assessment of classification models."
   ]
  },
  {
   "cell_type": "markdown",
   "metadata": {
    "id": "8NLc36Y8Tsnm"
   },
   "source": [
    "**While making a recommendation system, it becomes customary to look at the performance of the model. In terms of how many recommendations are relevant and vice-versa, below are some most used performance metrics used in the assessment of recommendation systems.**"
   ]
  },
  {
   "cell_type": "markdown",
   "metadata": {
    "id": "cqF8fRBqTsnm"
   },
   "source": [
    "### **Precision@k, Recall@ k, and F1-score@k**"
   ]
  },
  {
   "cell_type": "markdown",
   "metadata": {
    "id": "imMJNF0HTsnm"
   },
   "source": [
    "**Precision@k** - It is the **fraction of recommended items that are relevant in `top k` predictions**. The value of k is the number of recommendations to be provided to the user. One can choose a variable number of recommendations to be given to a unique user.  \n",
    "\n",
    "\n",
    "**Recall@k** - It is the **fraction of relevant items that are recommended to the user in `top k` predictions**.\n",
    "\n",
    "**F1-score@k** - It is the **harmonic mean of Precision@k and Recall@k**. When **precision@k and recall@k both seem to be important** then it is useful to use this metric because it is representative of both of them. "
   ]
  },
  {
   "cell_type": "markdown",
   "metadata": {
    "id": "jBW4BUhWTsnm"
   },
   "source": [
    "### **Some useful functions**"
   ]
  },
  {
   "cell_type": "markdown",
   "metadata": {
    "id": "QOBHKh0eTsnm"
   },
   "source": [
    "- Below function takes the **recommendation model** as input and gives the **precision@k, recall@k, and F1-score@k** for that model.  \n",
    "- To compute **precision and recall**, **top k** predictions are taken under consideration for each user.\n",
    "- We will use the precision and recall to compute the F1-score."
   ]
  },
  {
   "cell_type": "code",
   "execution_count": 151,
   "metadata": {
    "id": "Rxn-GahOTsnm"
   },
   "outputs": [],
   "source": [
    "from collections import defaultdict\n",
    "\n",
    "def precision_recall_at_k(model, k = 10, threshold = 3.5):\n",
    "    \"\"\"Return precision and recall at k metrics for each user\"\"\"\n",
    "\n",
    "    # First map the predictions to each user\n",
    "    user_est_true = defaultdict(list)\n",
    "    \n",
    "    # Making predictions on the test data\n",
    "    predictions = model.test(testset)\n",
    "    \n",
    "    for uid, _, true_r, est, _ in predictions:\n",
    "        user_est_true[uid].append((est, true_r))\n",
    "\n",
    "    precisions = dict()\n",
    "    recalls = dict()\n",
    "    for uid, user_ratings in user_est_true.items():\n",
    "\n",
    "        # Sort user ratings by estimated value\n",
    "        user_ratings.sort(key = lambda x: x[0], reverse = True)\n",
    "\n",
    "        # Number of relevant items\n",
    "        n_rel = sum((true_r >= threshold) for (_, true_r) in user_ratings)\n",
    "\n",
    "        # Number of recommended items in top k\n",
    "        n_rec_k = sum((est >= threshold) for (est, _) in user_ratings[:k])\n",
    "\n",
    "        # Number of relevant and recommended items in top k\n",
    "        n_rel_and_rec_k = sum(((true_r >= threshold) and (est >= threshold))\n",
    "                              for (est, true_r) in user_ratings[:k])\n",
    "\n",
    "        # Precision@K: Proportion of recommended items that are relevant\n",
    "        # When n_rec_k is 0, Precision is undefined. Therefore, we are setting Precision to 0 when n_rec_k is 0\n",
    "\n",
    "        precisions[uid] = n_rel_and_rec_k / n_rec_k if n_rec_k != 0 else 0\n",
    "\n",
    "        # Recall@K: Proportion of relevant items that are recommended\n",
    "        # When n_rel is 0, Recall is undefined. Therefore, we are setting Recall to 0 when n_rel is 0\n",
    "\n",
    "        recalls[uid] = n_rel_and_rec_k / n_rel if n_rel != 0 else 0\n",
    "    \n",
    "    # Mean of all the predicted precisions are calculated.\n",
    "    precision = round((sum(prec for prec in precisions.values()) / len(precisions)), 3)\n",
    "    \n",
    "    # Mean of all the predicted recalls are calculated.\n",
    "    recall = round((sum(rec for rec in recalls.values()) / len(recalls)), 3)\n",
    "    \n",
    "    accuracy.rmse(predictions)\n",
    "    \n",
    "    print('Precision: ', precision) # Command to print the overall precision\n",
    "    \n",
    "    print('Recall: ', recall) # Command to print the overall recall\n",
    "    \n",
    "    print('F_1 score: ', round((2*precision*recall)/(precision+recall), 3)) # Formula to compute the F-1 score"
   ]
  },
  {
   "cell_type": "markdown",
   "metadata": {
    "id": "_ZmsamDVyek-"
   },
   "source": [
    "**Hints:**\n",
    "\n",
    "- To compute **precision and recall**, a **threshold of 3.5 and k value of 10 can be considered for the recommended and relevant ratings**.\n",
    "- Think about the performance metric to choose."
   ]
  },
  {
   "cell_type": "markdown",
   "metadata": {
    "id": "8hxjJMTwnVNB"
   },
   "source": [
    "Below we are loading the **`rating` dataset**, which is a **pandas DataFrame**, into a **different format called `surprise.dataset.DatasetAutoFolds`**, which is required by this library. To do this, we will be **using the classes `Reader` and `Dataset`.**"
   ]
  },
  {
   "cell_type": "code",
   "execution_count": 101,
   "metadata": {
    "id": "rGfYDiOCpe4X"
   },
   "outputs": [],
   "source": [
    "# Instantiate a Reader with the rating scale (min_rating, max_rating)\n",
    "reader = Reader(rating_scale=(1, 5))\n",
    "\n",
    "# Load the dataset from the pandas DataFrame\n",
    "data = Dataset.load_from_df(df_final[['user_id', 'prod_id', 'rating']], reader)\n",
    "\n",
    "# Split the dataset into training and testing sets\n",
    "trainset, testset = train_test_split(data, test_size=0.25, random_state=42)"
   ]
  },
  {
   "cell_type": "code",
   "execution_count": 105,
   "metadata": {
    "tags": []
   },
   "outputs": [
    {
     "name": "stdout",
     "output_type": "stream",
     "text": [
      "Number of users in the training set: 1540\n",
      "Number of items in the training set: 5689\n",
      "Number of ratings in the training set: 48967\n"
     ]
    }
   ],
   "source": [
    "# Number of users in the training set\n",
    "num_users_train = trainset.n_users\n",
    "\n",
    "# Number of items in the training set\n",
    "num_items_train = trainset.n_items\n",
    "\n",
    "# Number of ratings in the training set\n",
    "num_ratings_train = trainset.n_ratings\n",
    "\n",
    "print(f'Number of users in the training set: {num_users_train}')\n",
    "print(f'Number of items in the training set: {num_items_train}')\n",
    "print(f'Number of ratings in the training set: {num_ratings_train}')"
   ]
  },
  {
   "cell_type": "code",
   "execution_count": 107,
   "metadata": {
    "tags": []
   },
   "outputs": [
    {
     "name": "stdout",
     "output_type": "stream",
     "text": [
      "Number of ratings in the test set: 16323\n",
      "Number of users in the test set: 1525\n",
      "Number of items in the test set: 5115\n"
     ]
    }
   ],
   "source": [
    "# Number of ratings in the test set\n",
    "num_ratings_test = len(testset)\n",
    "print(f'Number of ratings in the test set: {num_ratings_test}')\n",
    "\n",
    "# Extracting unique users and items from the test set\n",
    "test_users = set([uid for (uid, iid, _) in testset])\n",
    "test_items = set([iid for (uid, iid, _) in testset])\n",
    "\n",
    "# Number of unique users and items in the test set\n",
    "num_users_test = len(test_users)\n",
    "num_items_test = len(test_items)\n",
    "\n",
    "print(f'Number of users in the test set: {num_users_test}')\n",
    "print(f'Number of items in the test set: {num_items_test}')"
   ]
  },
  {
   "cell_type": "markdown",
   "metadata": {
    "id": "DmHTEt7TnVNC"
   },
   "source": [
    "Now, we are **ready to build the first baseline similarity-based recommendation system** using the cosine similarity."
   ]
  },
  {
   "cell_type": "markdown",
   "metadata": {
    "id": "SVDfVHB4tQfU"
   },
   "source": [
    "### **Building the user-user Similarity-based Recommendation System**"
   ]
  },
  {
   "cell_type": "code",
   "execution_count": 116,
   "metadata": {
    "id": "vO3FL7iape8A"
   },
   "outputs": [
    {
     "name": "stdout",
     "output_type": "stream",
     "text": [
      "RMSE: 1.0116\n",
      "Precision:  0.858\n",
      "Recall:  0.822\n",
      "F_1 score:  0.84\n"
     ]
    }
   ],
   "source": [
    "# Declare the similarity options\n",
    "sim_options = {\n",
    "    'name': 'cosine',      # Similarity measure: 'cosine', 'msd', 'pearson', 'pearson_baseline'\n",
    "    'user_based': True     # True for user-user similarity, False for item-item similarity\n",
    "}\n",
    "\n",
    "# Initialize the KNNBasic model using sim_options declared, Verbose = False, and setting random_state = 1\n",
    "algo_user_user = KNNBasic(sim_options=sim_options, verbose=False, random_state=1)\n",
    "\n",
    "# Fit the model on the training data\n",
    "algo_user_user.fit(trainset)\n",
    "\n",
    "# Let us compute precision@k, recall@k, and f_1 score using the precision_recall_at_k function defined above\n",
    "precision_recall_at_k(algo_user_user, k=10, threshold=3.5)"
   ]
  },
  {
   "cell_type": "markdown",
   "metadata": {
    "id": "nEuJK_A9Tsnn"
   },
   "source": [
    "__Observation:__\n",
    "\n",
    "After building the user-user similarity-based recommendation system using the KNNBasic algorithm with cosine similarity, we evaluated the model’s performance on the test dataset. The results are:\n",
    "\n",
    "\t•\tRMSE: 1.0116\n",
    "\t•\tPrecision: 0.858\n",
    "\t•\tRecall: 0.822\n",
    "\t•\tF1 Score: 0.840\n",
    "\n",
    "__Interpretation:__\n",
    "\n",
    "\t•\tHigh Precision (85.8%) indicates that most of the recommended items are relevant to the users.\n",
    "\t•\tHigh Recall (82.2%) means the model successfully retrieved a large portion of all relevant items for each user within the top 10 recommendations.\n",
    "\t•\tF1 Score (0.840) shows a strong balance between precision and recall.\n",
    "\t•\tRMSE (1.0116) suggests that the predicted ratings deviate from the actual ratings by about 1 point on a 1-5 scale, which is acceptable but could be improved.\n",
    "\n",
    "__Conclusion:__\n",
    "\n",
    "The model demonstrates strong performance in recommending relevant products, achieving high precision and recall. To further enhance the model, consider refining hyperparameters, experimenting with different similarity measures, or exploring advanced algorithms like matrix factorization."
   ]
  },
  {
   "cell_type": "markdown",
   "metadata": {
    "id": "reFD0-nsnVNC"
   },
   "source": [
    "Let's now **predict rating for a user with `userId=A3LDPF5FMB782Z` and `productId=1400501466`** as shown below. Here the user has already interacted or watched the product with productId '1400501466' and given a rating of 5."
   ]
  },
  {
   "cell_type": "code",
   "execution_count": 120,
   "metadata": {
    "id": "Sxd23bZ9pe_x"
   },
   "outputs": [
    {
     "name": "stdout",
     "output_type": "stream",
     "text": [
      "Actual rating by user A3LDPF5FMB782Z for product 1400501466: 5\n",
      "Predicted rating for user A3LDPF5FMB782Z and product 1400501466: 3.4000\n"
     ]
    }
   ],
   "source": [
    "# Predicting rating for a sample user with an interacted product\n",
    "# User ID and Product ID\n",
    "uid = 'A3LDPF5FMB782Z'\n",
    "iid = '1400501466'\n",
    "\n",
    "# Actual rating by the user for the product\n",
    "actual_rating = df_final[(df_final['user_id'] == uid) & (df_final['prod_id'] == iid)]['rating'].values[0]\n",
    "print(f\"Actual rating by user {uid} for product {iid}: {actual_rating}\")\n",
    "\n",
    "# Predict the rating using the trained model\n",
    "predicted_rating = algo_user_user.predict(uid, iid)\n",
    "\n",
    "print(f\"Predicted rating for user {uid} and product {iid}: {predicted_rating.est:.4f}\")"
   ]
  },
  {
   "cell_type": "markdown",
   "metadata": {
    "id": "ENJcqG_wemRH"
   },
   "source": [
    "__Observations:__\n",
    "\n",
    "Predicting Rating for a User Who Has Interacted with the Product\n",
    "\n",
    "\t•\tUser ID: A3LDPF5FMB782Z\n",
    "\t•\tProduct ID: 1400501466\n",
    "\t•\tActual Rating: 5\n",
    "\t•\tPredicted Rating: 3.4000\n",
    "\n",
    "__Interpretation:__\n",
    "\n",
    "\t•\tThe user had previously rated this product with the highest possible rating of 5.\n",
    "\t•\tThe model predicted a significantly lower rating of 3.4000 for this user-product pair.\n",
    "\t•\tPossible Reasons:\n",
    "\t•\tThe model may not have found enough similar users who also rated this product highly, leading to an underestimation.\n",
    "\t•\tThe user’s unique preferences might not be well captured by the collaborative filtering approach, especially if they have a distinct rating pattern.\n",
    "\t•\tData sparsity could be affecting the model’s ability to accurately predict ratings for this user.\n",
    "\t•\tImplications:\n",
    "\t•\tThe model is not accurately reflecting the user’s strong preference for this product.\n",
    "\t•\tThis underestimation could lead to less satisfactory recommendations for the user."
   ]
  },
  {
   "cell_type": "markdown",
   "metadata": {
    "id": "cj6ecbglTsno"
   },
   "source": [
    "Below is the **list of users who have not seen the product with product id \"1400501466\"**."
   ]
  },
  {
   "cell_type": "code",
   "execution_count": 122,
   "metadata": {
    "id": "xCRBMD-RTsno"
   },
   "outputs": [
    {
     "name": "stdout",
     "output_type": "stream",
     "text": [
      "User ABAPF3XY1W6JX has not interacted with product 1400501466\n"
     ]
    }
   ],
   "source": [
    "# Find unique user_id where prod_id is not equal to \"1400501466\"\n",
    "import random\n",
    "\n",
    "# Get all unique user IDs\n",
    "all_users = set(df_final['user_id'].unique())\n",
    "\n",
    "# Get the set of users who have interacted with the product '1400501466'\n",
    "users_interacted_with_iid = set(df_final[df_final['prod_id'] == iid]['user_id'])\n",
    "\n",
    "# Get the set of users who have not interacted with the product\n",
    "users_not_interacted_with_iid = all_users - users_interacted_with_iid\n",
    "\n",
    "# Select a random user who has not interacted with the product\n",
    "uid_non_interacted = random.choice(list(users_not_interacted_with_iid))\n",
    "\n",
    "print(f\"User {uid_non_interacted} has not interacted with product {iid}\")"
   ]
  },
  {
   "cell_type": "markdown",
   "metadata": {
    "id": "KT42ecaSTsno"
   },
   "source": [
    "* It can be observed from the above list that **user \"A34BZM6S9L7QI4\" has not seen the product with productId \"1400501466\"** as this userId is a part of the above list."
   ]
  },
  {
   "cell_type": "markdown",
   "metadata": {
    "id": "EXSgq8OEnVNE"
   },
   "source": [
    "**Below we are predicting rating for `userId=A34BZM6S9L7QI4` and `prod_id=1400501466`.** "
   ]
  },
  {
   "cell_type": "code",
   "execution_count": 124,
   "metadata": {
    "id": "PbFcBj1PpfEV"
   },
   "outputs": [
    {
     "name": "stdout",
     "output_type": "stream",
     "text": [
      "Predicted rating for user ABAPF3XY1W6JX and product 1400501466: 4.2923\n"
     ]
    }
   ],
   "source": [
    "# Predicting rating for a sample user with a non interacted product\n",
    "predicted_rating_non_interacted = algo_user_user.predict(uid_non_interacted, iid)\n",
    "\n",
    "print(f\"Predicted rating for user {uid_non_interacted} and product {iid}: {predicted_rating_non_interacted.est:.4f}\")"
   ]
  },
  {
   "cell_type": "markdown",
   "metadata": {
    "id": "02rwld8yemRI"
   },
   "source": [
    "**Observations:**\n",
    "\n",
    "Predicting Rating for a User Who Has Not Interacted with the Product\n",
    "\n",
    "\t•\tUser ID: ABAPF3XY1W6JX\n",
    "\t•\tProduct ID: 1400501466\n",
    "\t•\tPredicted Rating: 4.2923\n",
    "\n",
    "**Interpretation:**\n",
    "\n",
    "\t•\tThis user has not previously interacted with the product.\n",
    "\t•\tThe model predicts a relatively high rating of 4.2923, suggesting the user is likely to rate the product favorably.\n",
    "\t•\tPossible Reasons:\n",
    "\t•\tThe user may share similar preferences with other users who rated this product highly.\n",
    "\t•\tThe collaborative filtering model found strong similarities between this user and users who liked the product.\n",
    "\t•\tImplications:\n",
    "\t•\tThe model is effectively leveraging user similarities to predict ratings for non-interacted items.\n",
    "\t•\tThis indicates potential for successful recommendations to users for new products."
   ]
  },
  {
   "cell_type": "markdown",
   "metadata": {
    "id": "ejjof6csnVNF"
   },
   "source": [
    "### **Improving similarity-based recommendation system by tuning its hyperparameters**"
   ]
  },
  {
   "cell_type": "markdown",
   "metadata": {
    "id": "p2j4VvfQnVNF"
   },
   "source": [
    "Below, we will be tuning hyperparameters for the `KNNBasic` algorithm. Let's try to understand some of the hyperparameters of the KNNBasic algorithm:\n",
    "\n",
    "- **k** (int) – The (max) number of neighbors to take into account for aggregation. Default is 40.\n",
    "- **min_k** (int) – The minimum number of neighbors to take into account for aggregation. If there are not enough neighbors, the prediction is set to the global mean of all ratings. Default is 1.\n",
    "- **sim_options** (dict) – A dictionary of options for the similarity measure. And there are four similarity measures available in surprise - \n",
    "    - cosine\n",
    "    - msd (default)\n",
    "    - Pearson\n",
    "    - Pearson baseline"
   ]
  },
  {
   "cell_type": "code",
   "execution_count": 129,
   "metadata": {
    "id": "9LmPbSUSTsnp"
   },
   "outputs": [
    {
     "name": "stdout",
     "output_type": "stream",
     "text": [
      "Best RMSE score: 0.9685286576023419\n",
      "Best parameters: {'k': 50, 'min_k': 5, 'sim_options': {'name': 'cosine', 'user_based': True}}\n"
     ]
    }
   ],
   "source": [
    "# Setting up parameter grid to tune the hyperparameters\n",
    "param_grid = {\n",
    "    'k': [10, 20, 30, 40, 50],\n",
    "    'min_k': [1, 5, 10],\n",
    "    'sim_options': {\n",
    "        'name': ['cosine', 'msd', 'pearson', 'pearson_baseline'],\n",
    "        'user_based': [True]  # Keep user-based CF\n",
    "    }\n",
    "}\n",
    "\n",
    "# Performing 3-fold cross-validation to tune the hyperparameters\n",
    "# Initialize GridSearchCV\n",
    "gs = GridSearchCV(KNNBasic, param_grid, measures=['rmse'], cv=3, n_jobs=-1)\n",
    "\n",
    "# Fit the data\n",
    "gs.fit(data)\n",
    "\n",
    "# Best RMSE score\n",
    "print('Best RMSE score:', gs.best_score['rmse'])\n",
    "\n",
    "# Combination of parameters that gave the best RMSE score\n",
    "print('Best parameters:', gs.best_params['rmse'])"
   ]
  },
  {
   "cell_type": "markdown",
   "metadata": {
    "id": "L2fHNvu7nVNF"
   },
   "source": [
    "Once the grid search is **complete**, we can get the **optimal values for each of those hyperparameters**."
   ]
  },
  {
   "cell_type": "markdown",
   "metadata": {
    "id": "NHWgxu_YnVNG"
   },
   "source": [
    "Now, let's build the **final model by using tuned values of the hyperparameters**, which we received by using **grid search cross-validation**."
   ]
  },
  {
   "cell_type": "code",
   "execution_count": 138,
   "metadata": {
    "id": "PujRJA8X_JEJ"
   },
   "outputs": [
    {
     "name": "stdout",
     "output_type": "stream",
     "text": [
      "RMSE: 0.9571\n",
      "Precision:  0.852\n",
      "Recall:  0.854\n",
      "F_1 score:  0.853\n"
     ]
    }
   ],
   "source": [
    "from surprise import KNNBasic\n",
    "\n",
    "# Optimal hyperparameters\n",
    "k_optimal = 50\n",
    "min_k_optimal = 5\n",
    "sim_options_optimal = {\n",
    "    'name': 'cosine',\n",
    "    'user_based': True\n",
    "}\n",
    "\n",
    "# Create an instance of KNNBasic with optimal hyperparameters\n",
    "sim_user_user_optimized = KNNBasic(\n",
    "    k=k_optimal,\n",
    "    min_k=min_k_optimal,\n",
    "    sim_options=sim_options_optimal,\n",
    "    verbose=False\n",
    ")\n",
    "\n",
    "# Train the algorithm on the training data\n",
    "sim_user_user_optimized.fit(trainset)\n",
    "\n",
    "# Compute precision@k and recall@k for testset\n",
    "precision_recall_at_k(sim_user_user_optimized, k=10, threshold=3.5)"
   ]
  },
  {
   "cell_type": "markdown",
   "metadata": {
    "id": "yHsWvFjKTsnp"
   },
   "source": [
    "### Observations:\n",
    "\n",
    "**After tuning the hyperparameters of the KNNBasic algorithm using grid search, we retrained the model with the optimal parameters:**\n",
    "\n",
    "\t•\tk: 50\n",
    "\t•\tmin_k: 5\n",
    "\t•\tSimilarity Measure: Cosine similarity ('cosine')\n",
    "\n",
    "**The optimized model’s performance on the test data is as follows:**\n",
    "\n",
    "\t•\tRMSE: 0.9571\n",
    "\t•\tPrecision: 0.852\n",
    "\t•\tRecall: 0.854\n",
    "\t•\tF1 Score: 0.853\n",
    "\n",
    "**Comparison with Previous Model:**\n",
    "\n",
    "\t•\tRMSE Improved: Decreased from 1.0116 to 0.9571, indicating better prediction accuracy.\n",
    "\t•\tPrecision Slightly Decreased: From 0.858 to 0.852.\n",
    "\t•\tRecall Improved Significantly: Increased from 0.822 to 0.854, meaning the model is retrieving more relevant items for users.\n",
    "\t•\tF1 Score Improved: From 0.840 to 0.853, reflecting a better balance between precision and recall.\n",
    "\n",
    "**Interpretation:**\n",
    "\n",
    "\t•\tImproved Accuracy: The lower RMSE suggests the model’s rating predictions are more accurate after tuning.\n",
    "\t•\tBalanced Performance: Although precision slightly decreased, the significant improvement in recall leads to a higher F1 Score, indicating overall better model performance.\n",
    "\t•\tRecommendation Effectiveness: The model is now more effective at capturing relevant items in its top recommendations without greatly sacrificing precision.\n",
    "\n",
    "**Conclusion:**\n",
    "\n",
    "Hyperparameter tuning has enhanced the model’s ability to recommend relevant products, improving both the accuracy of rating predictions and the coverage of relevant items. The optimized model offers a better balance between precision and recall, leading to a more effective recommendation system."
   ]
  },
  {
   "cell_type": "markdown",
   "metadata": {
    "id": "YhcAXK0CnVNG"
   },
   "source": [
    "### **Steps:**\n",
    "- **Predict rating for the user with `userId=\"A3LDPF5FMB782Z\"`, and `prod_id= \"1400501466\"` using the optimized model**\n",
    "- **Predict rating for `userId=\"A34BZM6S9L7QI4\"` who has not interacted with `prod_id =\"1400501466\"`, by using the optimized model**\n",
    "- **Compare the output with the output from the baseline model**"
   ]
  },
  {
   "cell_type": "code",
   "execution_count": 156,
   "metadata": {
    "id": "FgV63lHiq1TV"
   },
   "outputs": [
    {
     "name": "stdout",
     "output_type": "stream",
     "text": [
      "Actual rating by user A3LDPF5FMB782Z for product 1400501466: 5\n",
      "Predicted rating for user A3LDPF5FMB782Z and product 1400501466: 3.4000\n"
     ]
    }
   ],
   "source": [
    "# Use sim_user_user_optimized model to recommend for userId \"A3LDPF5FMB782Z\" and productId 1400501466\n",
    "# User ID and Product ID\n",
    "uid_new = 'A3LDPF5FMB782Z'\n",
    "iid = '1400501466'\n",
    "\n",
    "# Check if the user has already rated the product\n",
    "actual_rating_new = df_final[(df_final['user_id'] == uid_new) & (df_final['prod_id'] == iid)]['rating'].values\n",
    "if actual_rating_new.size > 0:\n",
    "    actual_rating_new = actual_rating_new[0]\n",
    "    print(f\"Actual rating by user {uid_new} for product {iid}: {actual_rating_new}\")\n",
    "else:\n",
    "    print(f\"User {uid_new} has not rated product {iid}\")\n",
    "\n",
    "# Predict the rating using the optimized model\n",
    "predicted_rating_new = sim_user_user_optimized.predict(uid_new, iid)\n",
    "\n",
    "print(f\"Predicted rating for user {uid_new} and product {iid}: {predicted_rating_new.est:.4f}\")"
   ]
  },
  {
   "cell_type": "code",
   "execution_count": 160,
   "metadata": {
    "id": "HXO2Ztjhq1bN"
   },
   "outputs": [
    {
     "name": "stdout",
     "output_type": "stream",
     "text": [
      "User A34BZM6S9L7QI4 has not rated product 1400501466\n",
      "Predicted rating for user A34BZM6S9L7QI4 and product 1400501466: 4.2923\n"
     ]
    }
   ],
   "source": [
    "# Use sim_user_user_optimized model to recommend for userId \"A34BZM6S9L7QI4\" and productId \"1400501466\"\n",
    "uid_new = 'A34BZM6S9L7QI4'\n",
    "iid = '1400501466'\n",
    "\n",
    "# Check if the user has already rated the product\n",
    "actual_rating_new = df_final[(df_final['user_id'] == uid_new) & (df_final['prod_id'] == iid)]['rating'].values\n",
    "if actual_rating_new.size > 0:\n",
    "    actual_rating_new = actual_rating_new[0]\n",
    "    print(f\"Actual rating by user {uid_new} for product {iid}: {actual_rating_new}\")\n",
    "else:\n",
    "    print(f\"User {uid_new} has not rated product {iid}\")\n",
    "\n",
    "# Predict the rating using the optimized model\n",
    "predicted_rating_new = sim_user_user_optimized.predict(uid_new, iid)\n",
    "\n",
    "print(f\"Predicted rating for user {uid_new} and product {iid}: {predicted_rating_new.est:.4f}\")"
   ]
  },
  {
   "cell_type": "markdown",
   "metadata": {},
   "source": [
    "**Observation:**\n",
    "\n",
    "\t•\tUser A3LDPF5FMB782Z: The actual rating for product 1400501466 is 5, but the model predicted a lower rating of 3.4000. This indicates the model underestimated the user’s strong preference for the product.\n",
    "\t•\tUser A34BZM6S9L7QI4: The user has not rated the product, but the model predicted a rating of 4.2923, suggesting the user is likely to appreciate it.\n",
    "\n",
    "**Conclusion:**\n",
    "\n",
    "The model performs better at predicting potential interest for users who haven’t interacted with a product but may struggle to capture the strong preferences of users who have, indicating room for improvement in personalizing recommendations for individual users."
   ]
  },
  {
   "cell_type": "markdown",
   "metadata": {
    "id": "op_zwO_FnVNH"
   },
   "source": [
    "### **Identifying similar users to a given user (nearest neighbors)**"
   ]
  },
  {
   "cell_type": "markdown",
   "metadata": {
    "id": "o2QsfqhanVNH"
   },
   "source": [
    "We can also find out **similar users to a given user** or its **nearest neighbors** based on this KNNBasic algorithm. Below, we are finding the 5 most similar users to the first user in the list with internal id 0, based on the `msd` distance metric."
   ]
  },
  {
   "cell_type": "code",
   "execution_count": 163,
   "metadata": {
    "id": "TbFle7cKmBJG"
   },
   "outputs": [
    {
     "name": "stdout",
     "output_type": "stream",
     "text": [
      "The 5 users most similar to user with inner ID 0 are:\n",
      "1. User ID: A16J281SJ9QXIQ\n",
      "2. User ID: A3QUDXLOJTKEP9\n",
      "3. User ID: A3CJ7MHAS9IMAM\n",
      "4. User ID: A2L0F2T1DLTNT8\n",
      "5. User ID: AYMD77ITD15PT\n"
     ]
    }
   ],
   "source": [
    "# Step 1: Declare the similarity options for user-based collaborative filtering using MSD\n",
    "sim_options = {\n",
    "    'name': 'msd',       # Use MSD (Mean Squared Difference) similarity metric\n",
    "    'user_based': True   # True for user-user similarity\n",
    "}\n",
    "\n",
    "# Step 2: Initialize the KNNBasic model with the specified similarity options\n",
    "knn_msd = KNNBasic(sim_options=sim_options, verbose=False, random_state=1)\n",
    "\n",
    "# Step 3: Train the algorithm on the training data\n",
    "knn_msd.fit(trainset)\n",
    "\n",
    "# Step 4: Specify the inner ID of the user for whom we want to find similar users\n",
    "user_inner_id = 0  # Inner ID of the target user\n",
    "\n",
    "# Step 5: Find the 5 nearest neighbors (most similar users) to the target user\n",
    "k = 5  # Number of similar users to find\n",
    "neighbors = knn_msd.get_neighbors(user_inner_id, k=k)\n",
    "\n",
    "# Step 6: Convert inner IDs of neighbors to raw user IDs\n",
    "neighbors_raw_ids = [knn_msd.trainset.to_raw_uid(inner_id) for inner_id in neighbors]\n",
    "\n",
    "# Step 7: Print the raw user IDs of the similar users\n",
    "print(f\"The {k} users most similar to user with inner ID {user_inner_id} are:\")\n",
    "for idx, user_id in enumerate(neighbors_raw_ids, 1):\n",
    "    print(f\"{idx}. User ID: {user_id}\")"
   ]
  },
  {
   "cell_type": "markdown",
   "metadata": {
    "id": "Z0NsrX_anVNH"
   },
   "source": [
    "### **Implementing the recommendation algorithm based on optimized KNNBasic model**"
   ]
  },
  {
   "cell_type": "markdown",
   "metadata": {
    "id": "U3ESobDynVNI"
   },
   "source": [
    "Below we will be implementing a function where the input parameters are:\n",
    "\n",
    "- data: A **rating** dataset\n",
    "- user_id: A user id **against which we want the recommendations**\n",
    "- top_n: The **number of products we want to recommend**\n",
    "- algo: the algorithm we want to use **for predicting the ratings**\n",
    "- The output of the function is a **set of top_n items** recommended for the given user_id based on the given algorithm"
   ]
  },
  {
   "cell_type": "code",
   "execution_count": 165,
   "metadata": {
    "id": "vW9V1Tk65HlY"
   },
   "outputs": [],
   "source": [
    "def get_recommendations(data, user_id, top_n, algo):\n",
    "    \n",
    "    # Creating an empty list to store the recommended product ids\n",
    "    recommendations = []\n",
    "    \n",
    "    # Creating an user item interactions matrix \n",
    "    user_item_interactions_matrix = data.pivot(index = 'user_id', columns = 'prod_id', values = 'rating')\n",
    "    \n",
    "    # Extracting those product ids which the user_id has not interacted yet\n",
    "    non_interacted_products = user_item_interactions_matrix.loc[user_id][user_item_interactions_matrix.loc[user_id].isnull()].index.tolist()\n",
    "    \n",
    "    # Looping through each of the product ids which user_id has not interacted yet\n",
    "    for item_id in non_interacted_products:\n",
    "        \n",
    "        # Predicting the ratings for those non interacted product ids by this user\n",
    "        est = algo.predict(user_id, item_id).est\n",
    "        \n",
    "        # Appending the predicted ratings\n",
    "        recommendations.append((item_id, est))\n",
    "\n",
    "    # Sorting the predicted ratings in descending order\n",
    "    recommendations.sort(key = lambda x: x[1], reverse = True)\n",
    "\n",
    "    return recommendations[:top_n] # Returing top n highest predicted rating products for this user"
   ]
  },
  {
   "cell_type": "markdown",
   "metadata": {
    "id": "Oj_S7kh4nVNI"
   },
   "source": [
    "**Predicting top 5 products for userId = \"A3LDPF5FMB782Z\" with similarity based recommendation system**"
   ]
  },
  {
   "cell_type": "code",
   "execution_count": 176,
   "metadata": {
    "tags": []
   },
   "outputs": [],
   "source": [
    "# User ID for whom we want recommendations\n",
    "user_id = 'A3LDPF5FMB782Z'\n",
    "# Number of recommendations to generate\n",
    "top_n = 5\n",
    "# Get the top N recommendations\n",
    "top_recommendations = get_recommendations(df_final, user_id, top_n, knn_msd)"
   ]
  },
  {
   "cell_type": "code",
   "execution_count": 178,
   "metadata": {
    "tags": []
   },
   "outputs": [
    {
     "data": {
      "text/html": [
       "<div>\n",
       "<style scoped>\n",
       "    .dataframe tbody tr th:only-of-type {\n",
       "        vertical-align: middle;\n",
       "    }\n",
       "\n",
       "    .dataframe tbody tr th {\n",
       "        vertical-align: top;\n",
       "    }\n",
       "\n",
       "    .dataframe thead th {\n",
       "        text-align: right;\n",
       "    }\n",
       "</style>\n",
       "<table border=\"1\" class=\"dataframe\">\n",
       "  <thead>\n",
       "    <tr style=\"text-align: right;\">\n",
       "      <th></th>\n",
       "      <th>prod_id</th>\n",
       "      <th>predicted_ratings</th>\n",
       "    </tr>\n",
       "  </thead>\n",
       "  <tbody>\n",
       "    <tr>\n",
       "      <th>0</th>\n",
       "      <td>1400599997</td>\n",
       "      <td>5</td>\n",
       "    </tr>\n",
       "    <tr>\n",
       "      <th>1</th>\n",
       "      <td>B00000DM9W</td>\n",
       "      <td>5</td>\n",
       "    </tr>\n",
       "    <tr>\n",
       "      <th>2</th>\n",
       "      <td>B00001W0DI</td>\n",
       "      <td>5</td>\n",
       "    </tr>\n",
       "    <tr>\n",
       "      <th>3</th>\n",
       "      <td>B00002EQCW</td>\n",
       "      <td>5</td>\n",
       "    </tr>\n",
       "    <tr>\n",
       "      <th>4</th>\n",
       "      <td>B00003006E</td>\n",
       "      <td>5</td>\n",
       "    </tr>\n",
       "  </tbody>\n",
       "</table>\n",
       "</div>"
      ],
      "text/plain": [
       "      prod_id  predicted_ratings\n",
       "0  1400599997                  5\n",
       "1  B00000DM9W                  5\n",
       "2  B00001W0DI                  5\n",
       "3  B00002EQCW                  5\n",
       "4  B00003006E                  5"
      ]
     },
     "execution_count": 178,
     "metadata": {},
     "output_type": "execute_result"
    }
   ],
   "source": [
    "# Assuming 'top_recommendations' is the list of tuples (prod_id, predicted_rating)\n",
    "recommendations_df = pd.DataFrame(top_recommendations, columns=['prod_id', 'predicted_ratings'])\n",
    "\n",
    "# Display the DataFrame\n",
    "recommendations_df"
   ]
  },
  {
   "cell_type": "markdown",
   "metadata": {
    "id": "QgbzJKk7Tsnr"
   },
   "source": [
    "### **Item-Item Similarity-based Collaborative Filtering Recommendation System**"
   ]
  },
  {
   "cell_type": "markdown",
   "metadata": {
    "id": "qTJu_2hcTsnr"
   },
   "source": [
    "* Above we have seen **similarity-based collaborative filtering** where similarity is calculated **between users**. Now let us look into similarity-based collaborative filtering where similarity is seen **between items**. "
   ]
  },
  {
   "cell_type": "code",
   "execution_count": 188,
   "metadata": {
    "id": "W5RMcdzjTsns"
   },
   "outputs": [
    {
     "name": "stdout",
     "output_type": "stream",
     "text": [
      "RMSE: 1.0090\n",
      "Precision:  0.838\n",
      "Recall:  0.8\n",
      "F_1 score:  0.819\n"
     ]
    }
   ],
   "source": [
    "# Declaring the similarity options\n",
    "from surprise import KNNBasic\n",
    "\n",
    "# Declare the similarity options for item-item collaborative filtering\n",
    "sim_options_item = {\n",
    "    'name': 'cosine',    # Similarity measure: 'cosine', 'msd', 'pearson', 'pearson_baseline'\n",
    "    'user_based': False  # False for item-item similarity\n",
    "}\n",
    "\n",
    "# KNN algorithm is used to find desired similar items. Use random_state=1\n",
    "# Initialize the KNNBasic model for item-item collaborative filtering\n",
    "sim_item_item = KNNBasic(sim_options=sim_options_item, verbose=False, random_state=1)\n",
    "\n",
    "# Train the algorithm on the training data\n",
    "sim_item_item.fit(trainset)\n",
    "\n",
    "# Predict ratings for the test set\n",
    "# Let us compute precision@k, recall@k, and f_1 score with k = 10\n",
    "precision_recall_at_k(sim_item_item, k=10, threshold=3.5)"
   ]
  },
  {
   "cell_type": "markdown",
   "metadata": {
    "id": "ni9LoeUVTsns"
   },
   "source": [
    "**Observation:**\n",
    "\n",
    "After building the item-item similarity-based collaborative filtering model using the KNNBasic algorithm with cosine similarity, we obtained the following performance metrics:\n",
    "\n",
    "\t•\tRMSE: 1.0090\n",
    "\t•\tPrecision: 0.838\n",
    "\t•\tRecall: 0.800\n",
    "\t•\tF1 Score: 0.819\n",
    "\n",
    "**Interpretation:**\n",
    "\n",
    "\t•\tThe RMSE of 1.0090 indicates that the model’s predicted ratings deviate from the actual ratings by about 1 point on a scale of 1 to 5.\n",
    "\t•\tA Precision of 0.838 means that 83.8% of the top 10 recommended items are relevant to the users.\n",
    "\t•\tA Recall of 0.800 shows that the model successfully retrieved 80% of all relevant items for each user within the top 10 recommendations.\n",
    "\t•\tThe F1 Score of 0.819 reflects a good balance between precision and recall but is slightly lower than the user-user model.\n",
    "\n",
    "**Conclusion:**\n",
    "\n",
    "The item-item collaborative filtering model performs well but slightly underperforms compared to the optimized user-user model in terms of precision, recall, and F1 score. Further tuning of hyperparameters or exploring different similarity measures may improve its performance."
   ]
  },
  {
   "cell_type": "markdown",
   "metadata": {
    "id": "jFbcDQmxTsns"
   },
   "source": [
    "Let's now **predict a rating for a user with `userId = A3LDPF5FMB782Z` and `prod_Id = 1400501466`** as shown below. Here the user has already interacted or watched the product with productId \"1400501466\"."
   ]
  },
  {
   "cell_type": "code",
   "execution_count": 192,
   "metadata": {
    "id": "JsF-aaWYTsns"
   },
   "outputs": [
    {
     "name": "stdout",
     "output_type": "stream",
     "text": [
      "Actual rating by user A3LDPF5FMB782Z for product 1400501466: 5\n",
      "Predicted rating for user A3LDPF5FMB782Z and product 1400501466: 4.2500\n"
     ]
    }
   ],
   "source": [
    "# Predicting rating for a sample user with an interacted product\n",
    "# User ID and Product ID\n",
    "uid = 'A3LDPF5FMB782Z'\n",
    "iid = '1400501466'\n",
    "\n",
    "# Check if the user has already rated the product\n",
    "actual_rating = df_final[(df_final['user_id'] == uid) & (df_final['prod_id'] == iid)]['rating'].values\n",
    "if actual_rating.size > 0:\n",
    "    actual_rating = actual_rating[0]\n",
    "    print(f\"Actual rating by user {uid} for product {iid}: {actual_rating}\")\n",
    "else:\n",
    "    print(f\"User {uid} has not rated product {iid}\")\n",
    "\n",
    "# Predict the rating using the item-item model\n",
    "predicted_rating = sim_item_item.predict(uid, iid)\n",
    "\n",
    "print(f\"Predicted rating for user {uid} and product {iid}: {predicted_rating.est:.4f}\")"
   ]
  },
  {
   "cell_type": "markdown",
   "metadata": {
    "id": "BqKGZoAtTsns"
   },
   "source": [
    "Below we are **predicting rating for the `userId = A34BZM6S9L7QI4` and `prod_id = 1400501466`**."
   ]
  },
  {
   "cell_type": "code",
   "execution_count": 194,
   "metadata": {
    "id": "5yILOxXRTsns"
   },
   "outputs": [
    {
     "name": "stdout",
     "output_type": "stream",
     "text": [
      "User A34BZM6S9L7QI4 has not rated product 1400501466\n",
      "Predicted rating for user A34BZM6S9L7QI4 and product 1400501466: 4.2923\n"
     ]
    }
   ],
   "source": [
    "# Predicting rating for a sample user with a non interacted product\n",
    "# User ID and Product ID\n",
    "uid_new = 'A34BZM6S9L7QI4'\n",
    "iid = '1400501466'\n",
    "\n",
    "# Check if the user has already rated the product\n",
    "actual_rating_new = df_final[(df_final['user_id'] == uid_new) & (df_final['prod_id'] == iid)]['rating'].values\n",
    "if actual_rating_new.size > 0:\n",
    "    actual_rating_new = actual_rating_new[0]\n",
    "    print(f\"Actual rating by user {uid_new} for product {iid}: {actual_rating_new}\")\n",
    "else:\n",
    "    print(f\"User {uid_new} has not rated product {iid}\")\n",
    "\n",
    "# Predict the rating using the item-item model\n",
    "predicted_rating_new = sim_item_item.predict(uid_new, iid)\n",
    "\n",
    "print(f\"Predicted rating for user {uid_new} and product {iid}: {predicted_rating_new.est:.4f}\")"
   ]
  },
  {
   "cell_type": "markdown",
   "metadata": {
    "id": "2h0OyDMFTsns"
   },
   "source": [
    "**Observation:**\n",
    "\n",
    "\t•\tUser A3LDPF5FMB782Z: The actual rating for product 1400501466 is 5, but the item-item collaborative filtering model predicted a lower rating of 4.2500. This indicates that the model underestimated the user’s strong preference for the product.\n",
    "\t•\tUser A34BZM6S9L7QI4: The user has not rated product 1400501466, yet the model predicted a rating of 4.2923. This suggests that the model estimates the user might like the product, making it a potential recommendation.\n",
    "\n",
    "__Conclusion:__\n",
    "\n",
    "The model predicts similar ratings for both users, slightly higher for the non-interacted user. This underestimation for the user who rated the product highly may indicate that the model could be improved to better capture individual user preferences, especially for users with strong positive ratings."
   ]
  },
  {
   "cell_type": "markdown",
   "metadata": {
    "id": "meSvpNLj_EjD"
   },
   "source": [
    "### **Hyperparameter tuning the item-item similarity-based model**\n",
    "- Use the following values for the param_grid and tune the model.\n",
    "  - 'k': [10, 20, 30]\n",
    "  - 'min_k': [3, 6, 9]\n",
    "  - 'sim_options': {'name': ['msd', 'cosine']\n",
    "  - 'user_based': [False]\n",
    "- Use GridSearchCV() to tune the model using the 'rmse' measure\n",
    "- Print the best score and best parameters "
   ]
  },
  {
   "cell_type": "code",
   "execution_count": 200,
   "metadata": {
    "id": "f5bcZ3HgTsnt"
   },
   "outputs": [
    {
     "name": "stdout",
     "output_type": "stream",
     "text": [
      "Best RMSE score: 0.9753846835381214\n",
      "Best parameters: {'k': 30, 'min_k': 6, 'sim_options': {'name': 'msd', 'user_based': False}}\n"
     ]
    }
   ],
   "source": [
    "# Setting up parameter grid to tune the hyperparameters\n",
    "# Define the parameter grid\n",
    "param_grid = {\n",
    "    'k': [10, 20, 30],\n",
    "    'min_k': [3, 6, 9],\n",
    "    'sim_options': {\n",
    "        'name': ['msd', 'cosine'],\n",
    "        'user_based': [False]  # False for item-item similarity\n",
    "    }\n",
    "}\n",
    "# Performing 3-fold cross validation to tune the hyperparameters\n",
    "# Initialize GridSearchCV\n",
    "gs_item_item = GridSearchCV(KNNBasic, param_grid, measures=['rmse'], cv=3, n_jobs=-1)\n",
    "\n",
    "# Fitting the data\n",
    "gs_item_item.fit(data)\n",
    "\n",
    "# Find the best RMSE score\n",
    "# Best RMSE score\n",
    "print('Best RMSE score:', gs_item_item.best_score['rmse'])\n",
    "\n",
    "# Find the combination of parameters that gave the best RMSE score\n",
    "# Best parameters\n",
    "print('Best parameters:', gs_item_item.best_params['rmse'])"
   ]
  },
  {
   "cell_type": "markdown",
   "metadata": {
    "id": "1psOlx6zTsnt"
   },
   "source": [
    "Once the **grid search** is complete, we can get the **optimal values for each of those hyperparameters as shown above.**"
   ]
  },
  {
   "cell_type": "markdown",
   "metadata": {
    "id": "JrSTaQemTsnt"
   },
   "source": [
    "Now let's build the **final model** by using **tuned values of the hyperparameters** which we received by using grid search cross-validation."
   ]
  },
  {
   "cell_type": "markdown",
   "metadata": {
    "id": "kOS9Dwnd_LN6"
   },
   "source": [
    "### **Use the best parameters from GridSearchCV to build the optimized item-item similarity-based model. Compare the performance of the optimized model with the baseline model.**"
   ]
  },
  {
   "cell_type": "code",
   "execution_count": 208,
   "metadata": {
    "id": "dSeiM1qeTsnt"
   },
   "outputs": [
    {
     "name": "stdout",
     "output_type": "stream",
     "text": [
      "RMSE: 0.9677\n",
      "Precision:  0.833\n",
      "Recall:  0.967\n",
      "F_1 score:  0.895\n"
     ]
    }
   ],
   "source": [
    "# Using the optimal similarity measure for item-item based collaborative filtering\n",
    "\n",
    "# Define the optimal similarity options\n",
    "sim_options_optimized = {\n",
    "    'name': 'msd',\n",
    "    'user_based': False  # Item-item similarity\n",
    "}\n",
    "\n",
    "# Create an instance of KNNBasic with optimal hyperparameters\n",
    "sim_item_item_optimized = KNNBasic(\n",
    "    k=30,\n",
    "    min_k=6,\n",
    "    sim_options=sim_options_optimized,\n",
    "    verbose=False\n",
    ")\n",
    "\n",
    "# Train the optimized model on the training data\n",
    "sim_item_item_optimized.fit(trainset)\n",
    "\n",
    "# Let us compute precision@k and recall@k, f1_score and RMSE\n",
    "\n",
    "# Compute evaluation metrics\n",
    "precision_recall_at_k(sim_item_item_optimized, k=30, threshold=3.5)"
   ]
  },
  {
   "cell_type": "markdown",
   "metadata": {
    "id": "ZCXKnMI8Tsnt"
   },
   "source": [
    "**Observation:**\n",
    "\n",
    "After tuning the hyperparameters of the item-item similarity-based collaborative filtering model, we obtained the following performance metrics:\n",
    "\n",
    "\t•\tRMSE: 0.9677\n",
    "\t•\tPrecision: 0.833\n",
    "\t•\tRecall: 0.967\n",
    "\t•\tF1 Score: 0.895\n",
    "\n",
    "**Interpretation:**\n",
    "\n",
    "\t•\tRMSE Decreased: The RMSE has improved from the baseline model’s RMSE of 1.0090 to 0.9677, indicating better accuracy in predicting user ratings.\n",
    "\t•\tHigh Recall: The recall has significantly increased to 0.967, suggesting that the model is retrieving a higher proportion of relevant items for users.\n",
    "\t•\tImproved F1 Score: The F1 Score has increased to 0.895, reflecting a better balance between precision and recall.\n",
    "\n",
    "**Conclusion:**\n",
    "\n",
    "The optimized item-item collaborative filtering model performs better than the baseline model, providing more accurate and relevant recommendations to users."
   ]
  },
  {
   "cell_type": "markdown",
   "metadata": {
    "id": "Sbcj_H94Tsnt"
   },
   "source": [
    "### **Steps:**\n",
    "- **Predict rating for the user with `userId=\"A3LDPF5FMB782Z\"`, and `prod_id= \"1400501466\"` using the optimized model**\n",
    "- **Predict rating for `userId=\"A34BZM6S9L7QI4\"` who has not interacted with `prod_id =\"1400501466\"`, by using the optimized model**\n",
    "- **Compare the output with the output from the baseline model**"
   ]
  },
  {
   "cell_type": "code",
   "execution_count": 215,
   "metadata": {
    "id": "gIBRRvdoTsnt"
   },
   "outputs": [
    {
     "name": "stdout",
     "output_type": "stream",
     "text": [
      "Actual rating by user A3LDPF5FMB782Z for product 1400501466: 5\n",
      "Predicted rating for user A3LDPF5FMB782Z and product 1400501466: 4.6751\n"
     ]
    }
   ],
   "source": [
    "# Use sim_item_item_optimized model to recommend for userId \"A3LDPF5FMB782Z\" and productId \"1400501466\"\n",
    "# User ID and Product ID\n",
    "uid = 'A3LDPF5FMB782Z'\n",
    "iid = '1400501466'\n",
    "\n",
    "# Check if the user has already rated the product\n",
    "actual_rating = df_final[(df_final['user_id'] == uid) & (df_final['prod_id'] == iid)]['rating'].values\n",
    "if actual_rating.size > 0:\n",
    "    actual_rating = actual_rating[0]\n",
    "    print(f\"Actual rating by user {uid} for product {iid}: {actual_rating}\")\n",
    "else:\n",
    "    print(f\"User {uid} has not rated product {iid}\")\n",
    "\n",
    "# Predict the rating using the optimized item-item model\n",
    "predicted_rating = sim_item_item_optimized.predict(uid, iid)\n",
    "\n",
    "print(f\"Predicted rating for user {uid} and product {iid}: {predicted_rating.est:.4f}\")"
   ]
  },
  {
   "cell_type": "code",
   "execution_count": 217,
   "metadata": {},
   "outputs": [
    {
     "name": "stdout",
     "output_type": "stream",
     "text": [
      "User A34BZM6S9L7QI4 has not rated product 1400501466\n",
      "Predicted rating for user A34BZM6S9L7QI4 and product 1400501466: 4.2923\n"
     ]
    }
   ],
   "source": [
    "# Use sim_item_item_optimized model to recommend for userId \"1400501466\" and productId \"1400501466\"\n",
    "# User ID and Product ID\n",
    "uid_new = 'A34BZM6S9L7QI4'\n",
    "iid = '1400501466'\n",
    "\n",
    "# Check if the user has already rated the product\n",
    "actual_rating_new = df_final[(df_final['user_id'] == uid_new) & (df_final['prod_id'] == iid)]['rating'].values\n",
    "if actual_rating_new.size > 0:\n",
    "    actual_rating_new = actual_rating_new[0]\n",
    "    print(f\"Actual rating by user {uid_new} for product {iid}: {actual_rating_new}\")\n",
    "else:\n",
    "    print(f\"User {uid_new} has not rated product {iid}\")\n",
    "\n",
    "# Predict the rating using the optimized item-item model\n",
    "predicted_rating_new = sim_item_item_optimized.predict(uid_new, iid)\n",
    "\n",
    "print(f\"Predicted rating for user {uid_new} and product {iid}: {predicted_rating_new.est:.4f}\")"
   ]
  },
  {
   "cell_type": "markdown",
   "metadata": {},
   "source": [
    "**Observations**\n",
    "\n",
    "\t•\tUser A3LDPF5FMB782Z:\n",
    "\t•\tActual Rating: 5\n",
    "\t•\tPredicted Rating: 4.6751\n",
    "\t•\tInterpretation: The predicted rating is close to the actual rating. This suggests that the optimized item-item collaborative filtering model effectively captures the user’s strong preference for the product. The model accurately estimates that this user highly values the product, indicating good predictive performance for interacted items.\n",
    "\t•\tUser A34BZM6S9L7QI4:\n",
    "\t•\tActual Rating: N/A (User has not rated the product)\n",
    "\t•\tPredicted Rating: 4.2923\n",
    "\t•\tInterpretation: The model predicts a fairly high rating for this user on a product they haven’t interacted with. This implies that the user is likely to appreciate the product, making it a strong candidate for recommendation. The model successfully generalizes preferences based on item similarities, even for users without prior interactions with the item.\n",
    "\n",
    "**Conclusion:**\n",
    "\n",
    "The optimized item-item collaborative filtering model demonstrates improved predictive accuracy:\n",
    "\n",
    "\t•\tFor Users with Prior Interaction: It closely predicts actual user ratings, effectively reflecting individual preferences.\n",
    "\t•\tFor Users without Prior Interaction: It provides reasonable estimates of user interest, aiding in recommending new items to users.\n"
   ]
  },
  {
   "cell_type": "markdown",
   "metadata": {
    "id": "MDlNB7tnTsnu"
   },
   "source": [
    "### **Identifying similar items to a given item (nearest neighbors)**"
   ]
  },
  {
   "cell_type": "markdown",
   "metadata": {
    "id": "RLdDiFA6Tsnu"
   },
   "source": [
    "We can also find out **similar items** to a given item or its nearest neighbors based on this **KNNBasic algorithm**. Below we are finding the 5 most similar items to the item with internal id 0 based on the `msd` distance metric."
   ]
  },
  {
   "cell_type": "code",
   "execution_count": 222,
   "metadata": {
    "id": "ZRJS4oDFTsnu"
   },
   "outputs": [
    {
     "name": "stdout",
     "output_type": "stream",
     "text": [
      "The 5 items most similar to item with internal ID 0 are:\n",
      "1. Product ID: B008X9Z3UC\n",
      "2. Product ID: B003ZSHKJ8\n",
      "3. Product ID: B003LSTD38\n",
      "4. Product ID: B005EOWBKE\n",
      "5. Product ID: B004IZN3WU\n"
     ]
    }
   ],
   "source": [
    "# Step 1: Define the internal item ID for which to find similar items\n",
    "target_item_inner_id = 0  # Internal ID of the target item\n",
    "\n",
    "# Step 2: Specify the number of similar items to retrieve\n",
    "k = 5\n",
    "\n",
    "# Step 3: Find the k nearest neighbors (most similar items)\n",
    "similar_items_inner_ids = sim_item_item_optimized.get_neighbors(target_item_inner_id, k=k)\n",
    "\n",
    "# Step 4: Convert internal item IDs back to raw item IDs\n",
    "similar_items_raw_ids = [sim_item_item_optimized.trainset.to_raw_iid(inner_id) for inner_id in similar_items_inner_ids]\n",
    "\n",
    "# Step 5: Display the similar items\n",
    "print(f\"The {k} items most similar to item with internal ID {target_item_inner_id} are:\")\n",
    "for idx, raw_id in enumerate(similar_items_raw_ids, start=1):\n",
    "    print(f\"{idx}. Product ID: {raw_id}\")"
   ]
  },
  {
   "cell_type": "markdown",
   "metadata": {},
   "source": [
    "**Predicting top 5 products for userId = \"A1A5KUIIIHFF4U\" with similarity based recommendation system.**\n",
    "\n",
    "**Hint:** Use the get_recommendations() function."
   ]
  },
  {
   "cell_type": "code",
   "execution_count": 224,
   "metadata": {
    "id": "rzoEbuZFTsnu"
   },
   "outputs": [
    {
     "name": "stdout",
     "output_type": "stream",
     "text": [
      "Top 5 product recommendations for user A1A5KUIIIHFF4U:\n",
      "1. Product ID: 1400532655, Predicted Rating: 4.2923\n",
      "2. Product ID: 1400599997, Predicted Rating: 4.2923\n",
      "3. Product ID: 9983891212, Predicted Rating: 4.2923\n",
      "4. Product ID: B00000DM9W, Predicted Rating: 4.2923\n",
      "5. Product ID: B00000J1V5, Predicted Rating: 4.2923\n"
     ]
    }
   ],
   "source": [
    "# Making top 5 recommendations for user_id A1A5KUIIIHFF4U with similarity-based recommendation engine.\n",
    "# Step 1: Define the user ID and number of recommendations\n",
    "user_id = 'A1A5KUIIIHFF4U'\n",
    "top_n = 5\n",
    "\n",
    "# Step 2: Generate top N recommendations using the get_recommendations function\n",
    "top_recommendations = get_recommendations(df_final, user_id, top_n, sim_item_item_optimized)\n",
    "\n",
    "# Step 3: Display the top recommendations\n",
    "print(f\"Top {top_n} product recommendations for user {user_id}:\")\n",
    "for idx, (prod_id, rating) in enumerate(top_recommendations, start=1):\n",
    "    print(f\"{idx}. Product ID: {prod_id}, Predicted Rating: {rating:.4f}\")"
   ]
  },
  {
   "cell_type": "code",
   "execution_count": 226,
   "metadata": {
    "id": "_kXVTiysTsnv"
   },
   "outputs": [
    {
     "name": "stdout",
     "output_type": "stream",
     "text": [
      "\n",
      "Recommendations DataFrame:\n"
     ]
    },
    {
     "data": {
      "text/html": [
       "<div>\n",
       "<style scoped>\n",
       "    .dataframe tbody tr th:only-of-type {\n",
       "        vertical-align: middle;\n",
       "    }\n",
       "\n",
       "    .dataframe tbody tr th {\n",
       "        vertical-align: top;\n",
       "    }\n",
       "\n",
       "    .dataframe thead th {\n",
       "        text-align: right;\n",
       "    }\n",
       "</style>\n",
       "<table border=\"1\" class=\"dataframe\">\n",
       "  <thead>\n",
       "    <tr style=\"text-align: right;\">\n",
       "      <th></th>\n",
       "      <th>prod_id</th>\n",
       "      <th>predicted_ratings</th>\n",
       "    </tr>\n",
       "  </thead>\n",
       "  <tbody>\n",
       "    <tr>\n",
       "      <th>0</th>\n",
       "      <td>1400532655</td>\n",
       "      <td>4.29234</td>\n",
       "    </tr>\n",
       "    <tr>\n",
       "      <th>1</th>\n",
       "      <td>1400599997</td>\n",
       "      <td>4.29234</td>\n",
       "    </tr>\n",
       "    <tr>\n",
       "      <th>2</th>\n",
       "      <td>9983891212</td>\n",
       "      <td>4.29234</td>\n",
       "    </tr>\n",
       "    <tr>\n",
       "      <th>3</th>\n",
       "      <td>B00000DM9W</td>\n",
       "      <td>4.29234</td>\n",
       "    </tr>\n",
       "    <tr>\n",
       "      <th>4</th>\n",
       "      <td>B00000J1V5</td>\n",
       "      <td>4.29234</td>\n",
       "    </tr>\n",
       "  </tbody>\n",
       "</table>\n",
       "</div>"
      ],
      "text/plain": [
       "      prod_id  predicted_ratings\n",
       "0  1400532655            4.29234\n",
       "1  1400599997            4.29234\n",
       "2  9983891212            4.29234\n",
       "3  B00000DM9W            4.29234\n",
       "4  B00000J1V5            4.29234"
      ]
     },
     "execution_count": 226,
     "metadata": {},
     "output_type": "execute_result"
    }
   ],
   "source": [
    "# Building the dataframe for above recommendations with columns \"prod_id\" and \"predicted_ratings\"\n",
    "\n",
    "\n",
    "recommendations_df = pd.DataFrame(top_recommendations, columns=['prod_id', 'predicted_ratings'])\n",
    "\n",
    "# Display the DataFrame\n",
    "print(\"\\nRecommendations DataFrame:\")\n",
    "recommendations_df"
   ]
  },
  {
   "cell_type": "markdown",
   "metadata": {
    "id": "DHzmYvs0Tsnv"
   },
   "source": [
    "Now as we have seen **similarity-based collaborative filtering algorithms**, let us now get into **model-based collaborative filtering algorithms**."
   ]
  },
  {
   "cell_type": "markdown",
   "metadata": {
    "id": "rKgJpSA9vOOL"
   },
   "source": [
    "### **Model 3: Model-Based Collaborative Filtering - Matrix Factorization**"
   ]
  },
  {
   "cell_type": "markdown",
   "metadata": {
    "id": "YF6ZGyqhCAob"
   },
   "source": [
    "Model-based Collaborative Filtering is a **personalized recommendation system**, the recommendations are based on the past behavior of the user and it is not dependent on any additional information. We use **latent features** to find recommendations for each user."
   ]
  },
  {
   "cell_type": "markdown",
   "metadata": {
    "id": "n4Otha8ovOOL"
   },
   "source": [
    "### Singular Value Decomposition (SVD)"
   ]
  },
  {
   "cell_type": "markdown",
   "metadata": {
    "id": "3sGl3QkLvOOL"
   },
   "source": [
    "SVD is used to **compute the latent features** from the **user-item matrix**. But SVD does not work when we **miss values** in the **user-item matrix**."
   ]
  },
  {
   "cell_type": "code",
   "execution_count": 230,
   "metadata": {
    "id": "07-2PT5Ssjqm"
   },
   "outputs": [
    {
     "name": "stdout",
     "output_type": "stream",
     "text": [
      "RMSE: 0.8944\n",
      "Precision:  0.857\n",
      "Recall:  0.84\n",
      "F_1 score:  0.848\n"
     ]
    }
   ],
   "source": [
    "# 1. Initialize the SVD algorithm with random_state=1 for reproducibility\n",
    "algo_svd = SVD(random_state=1)\n",
    "\n",
    "# 2. Train the SVD model on the training set\n",
    "algo_svd.fit(trainset)\n",
    "\n",
    "# Use the function precision_recall_at_k to compute precision@k, recall@k, F1-Score, and RMSE\n",
    "precision_recall_at_k(algo_svd)"
   ]
  },
  {
   "cell_type": "markdown",
   "metadata": {
    "id": "BQ6fTuCDnVNL"
   },
   "source": [
    "**Observation:**\n",
    "\n",
    "The SVD (Matrix Factorization) model demonstrated strong performance with the following metrics:\n",
    "\n",
    "\t•\tRMSE: 0.8944\n",
    "Indicates high accuracy in predicting user ratings, outperforming both user-user and item-item similarity-based models.\n",
    "\n",
    "\t•\tPrecision@10: 0.857\n",
    "Shows that 85.7% of the top 10 recommended items are relevant, reflecting effective recommendation relevance.\n",
    "\n",
    "\t•\tRecall@10: 0.840\n",
    "Suggests that the model successfully retrieves 84.0% of all relevant items for each user, ensuring comprehensive coverage.\n",
    "\n",
    "\t•\tF1 Score@10: 0.848\n",
    "Represents a balanced trade-off between precision and recall, highlighting the model’s ability to provide accurate and comprehensive recommendations.\n",
    "\n",
    "**Conclusion:**\n",
    "\n",
    "The SVD model outperforms the previously optimized user-user and item-item similarity-based models in terms of RMSE and Precision@10, while maintaining competitive Recall@10 and F1 Score@10. This indicates that the SVD-based collaborative filtering effectively captures latent user preferences, offering more accurate and relevant recommendations. Consequently, the SVD model is a robust choice for enhancing the recommendation system’s performance.Write your observations here:___________**"
   ]
  },
  {
   "cell_type": "code",
   "execution_count": 238,
   "metadata": {
    "tags": []
   },
   "outputs": [],
   "source": [
    "# Assuming df_final is your DataFrame with columns ['user_id', 'prod_id', 'rating']\n",
    "# and algo_svd is your trained SVD model\n",
    "\n",
    "# Define the prediction function\n",
    "def predict_rating(algo, df, user_id, prod_id):\n",
    "    \"\"\"\n",
    "    Predicts the rating for a given user and product using the trained algorithm.\n",
    "    \n",
    "    Args:\n",
    "    algo: Trained recommendation algorithm.\n",
    "    df: DataFrame containing 'user_id', 'prod_id', 'rating'.\n",
    "    user_id: The ID of the user.\n",
    "    prod_id: The ID of the product.\n",
    "    \n",
    "    Returns:\n",
    "    None\n",
    "    \"\"\"\n",
    "    # Check if the user has already rated the product\n",
    "    actual_rating = df[(df['user_id'] == user_id) & (df['prod_id'] == prod_id)]['rating'].values\n",
    "    if actual_rating.size > 0:\n",
    "        actual_rating = actual_rating[0]\n",
    "        print(f\"Actual rating by user {user_id} for product {prod_id}: {actual_rating}\")\n",
    "    else:\n",
    "        print(f\"User {user_id} has not rated product {prod_id}\")\n",
    "    \n",
    "    # Predict the rating using the SVD model\n",
    "    prediction = algo.predict(user_id, prod_id)\n",
    "    print(f\"Predicted rating for user {user_id} and product {prod_id}: {prediction.est:.4f}\\n\")"
   ]
  },
  {
   "cell_type": "markdown",
   "metadata": {},
   "source": [
    "**Let's now predict the rating for a user with `userId = \"A3LDPF5FMB782Z\"` and `prod_id = \"1400501466`.**"
   ]
  },
  {
   "cell_type": "code",
   "execution_count": 242,
   "metadata": {
    "id": "yWIhfdxXsjqm"
   },
   "outputs": [
    {
     "name": "stdout",
     "output_type": "stream",
     "text": [
      "Actual rating by user A3LDPF5FMB782Z for product 1400501466: 5\n",
      "Predicted rating for user A3LDPF5FMB782Z and product 1400501466: 4.0656\n",
      "\n"
     ]
    }
   ],
   "source": [
    "# User and Product IDs for prediction\n",
    "user_id, prod_id = (\"A3LDPF5FMB782Z\", \"1400501466\")  # User has interacted\n",
    "\n",
    "# Predict ratings for each pair\n",
    "predict_rating(algo_svd, df_final, user_id, prod_id)"
   ]
  },
  {
   "cell_type": "markdown",
   "metadata": {
    "id": "oIjzqDY5nVNM"
   },
   "source": [
    "**Observation:**\n",
    "\n",
    "\t•\tUser A3LDPF5FMB782Z:\n",
    "\t•\tActual Rating: 5\n",
    "\t•\tPredicted Rating: 4.0656\n",
    "\t•\tInterpretation: The SVD model significantly underestimated the user’s strong preference for the product. While the prediction is relatively high, it falls short of capturing the user’s maximum rating, indicating room for improvement in accurately modeling highly positive user preferences."
   ]
  },
  {
   "cell_type": "markdown",
   "metadata": {
    "id": "I1aYxVeMnVNM"
   },
   "source": [
    "**Below we are predicting rating for the `userId = \"A34BZM6S9L7QI4\"` and `productId = \"1400501466\"`.**"
   ]
  },
  {
   "cell_type": "code",
   "execution_count": 244,
   "metadata": {
    "id": "APm-uMSvcAMf"
   },
   "outputs": [
    {
     "name": "stdout",
     "output_type": "stream",
     "text": [
      "User A34BZM6S9L7QI4 has not rated product 1400501466\n",
      "Predicted rating for user A34BZM6S9L7QI4 and product 1400501466: 4.4273\n",
      "\n"
     ]
    }
   ],
   "source": [
    "# Making prediction\n",
    "user_id, prod_id = (\"A34BZM6S9L7QI4\", \"1400501466\")   # User has not interacted\n",
    "\n",
    "# Predict ratings for each pair\n",
    "predict_rating(algo_svd, df_final, user_id, prod_id)"
   ]
  },
  {
   "cell_type": "markdown",
   "metadata": {
    "id": "NEL6dy3wnVNM"
   },
   "source": [
    "**Observation:**\n",
    "\n",
    "\t•\tUser A34BZM6S9L7QI4:\n",
    "\t•\tActual Rating: N/A (User has not rated the product)\n",
    "\t•\tPredicted Rating: 4.4273\n",
    "\t•\tInterpretation: The model predicts a high rating for a user who hasn’t interacted with the product, suggesting a strong likelihood that the user would appreciate it. This demonstrates the model’s capability to generalize and provide relevant recommendations even for unseen user-item pairs.\n",
    "\n",
    "**Conclusion:**\n",
    "\n",
    "The SVD-based collaborative filtering model effectively predicts potential interest for users without prior interactions, offering high-rated recommendations. However, it tends to underestimate ratings for users with strong positive preferences, indicating a need for further refinement to better capture and reflect such individual user behaviors."
   ]
  },
  {
   "cell_type": "markdown",
   "metadata": {
    "id": "x13Eb9Owvpcw"
   },
   "source": [
    "### **Improving Matrix Factorization based recommendation system by tuning its hyperparameters**"
   ]
  },
  {
   "cell_type": "markdown",
   "metadata": {
    "id": "iQcDPhhcnVNN"
   },
   "source": [
    "Below we will be tuning only three hyperparameters:\n",
    "- **n_epochs**: The number of iterations of the SGD algorithm.\n",
    "- **lr_all**: The learning rate for all parameters.\n",
    "- **reg_all**: The regularization term for all parameters."
   ]
  },
  {
   "cell_type": "code",
   "execution_count": 248,
   "metadata": {
    "id": "4bM81V_hvtwv"
   },
   "outputs": [
    {
     "name": "stdout",
     "output_type": "stream",
     "text": [
      "Best RMSE score: 0.8990220790945882\n",
      "Best parameters: {'n_epochs': 40, 'lr_all': 0.005, 'reg_all': 0.2}\n"
     ]
    }
   ],
   "source": [
    "# Set the parameter space to tune\n",
    "param_grid = {\n",
    "    'n_epochs': [20, 30, 40],       # Number of iterations\n",
    "    'lr_all': [0.002, 0.005, 0.01], # Learning rates\n",
    "    'reg_all': [0.2, 0.4, 0.6]       # Regularization terms\n",
    "}\n",
    "\n",
    "# Perform 3-fold grid search cross-validation\n",
    "gs_svd = GridSearchCV(\n",
    "    SVD, \n",
    "    param_grid, \n",
    "    measures=['rmse'], \n",
    "    cv=3, \n",
    "    n_jobs=-1  # Utilize all available CPU cores\n",
    ")\n",
    "\n",
    "# Fit the grid search to the data\n",
    "gs_svd.fit(data)  # Ensure 'data' is your Surprise Dataset object\n",
    "\n",
    "# Best RMSE score\n",
    "print('Best RMSE score:', gs_svd.best_score['rmse'])\n",
    "\n",
    "# Combination of parameters that gave the best RMSE score\n",
    "print('Best parameters:', gs_svd.best_params['rmse'])"
   ]
  },
  {
   "cell_type": "markdown",
   "metadata": {
    "id": "KzY78HsrnVNO"
   },
   "source": [
    "Now, we will **the build final model** by using **tuned values** of the hyperparameters, which we received using grid search cross-validation above."
   ]
  },
  {
   "cell_type": "code",
   "execution_count": 254,
   "metadata": {
    "id": "TA_7xe-nnhuu"
   },
   "outputs": [
    {
     "name": "stdout",
     "output_type": "stream",
     "text": [
      "RMSE: 0.8852\n",
      "Precision:  0.858\n",
      "Recall:  0.838\n",
      "F_1 score:  0.848\n"
     ]
    }
   ],
   "source": [
    "# Build the optimized SVD model using optimal hyperparameter search. Use random_state=1\n",
    "\n",
    "# Initialize the optimized SVD algorithm with best hyperparameters\n",
    "svd_algo_optimized = SVD(\n",
    "    n_epochs=40,       # Number of iterations of the SGD algorithm\n",
    "    lr_all=0.005,      # Learning rate for all parameters\n",
    "    reg_all=0.2,       # Regularization term for all parameters\n",
    "    random_state=1     # Ensures reproducibility\n",
    ")\n",
    "\n",
    "# Train the optimized SVD model on the training set\n",
    "svd_algo_optimized.fit(trainset)\n",
    "\n",
    "# Use the function precision_recall_at_k to compute precision@k, recall@k, F1-Score, and RMSE\n",
    "precision_recall_at_k(svd_algo_optimized)"
   ]
  },
  {
   "cell_type": "markdown",
   "metadata": {
    "id": "9HJvPsjITsny"
   },
   "source": [
    "**Observation:**\n",
    "\n",
    "\t•\tRMSE: 0.8852\n",
    "The optimized SVD model achieves the lowest RMSE among all tested models, indicating superior accuracy in predicting user ratings. This improvement signifies that the model’s predictions are closer to the actual ratings, enhancing the reliability of the recommendations.\n",
    "\n",
    "\t•\tPrecision@10: 0.858\n",
    "With a precision of 85.8%, the SVD model ensures that a high proportion of the top 10 recommended items are relevant to the users. This higher precision surpasses both the user-user and item-item similarity-based models, demonstrating the model’s effectiveness in delivering pertinent recommendations.\n",
    "\n",
    "\t•\tRecall@10: 0.838\n",
    "The recall of 83.8% indicates that the model successfully retrieves a substantial portion of all relevant items for each user. While this is slightly lower compared to the similarity-based models, it still reflects strong coverage of relevant items.\n",
    "\n",
    "\t•\tF1 Score@10: 0.848\n",
    "The F1 Score balances precision and recall effectively, showcasing the model’s ability to provide accurate recommendations without significantly compromising on coverage.\n",
    "\n",
    "**Conclusion:**\n",
    "\n",
    "The optimized SVD (Matrix Factorization) model outperforms both the user-user and item-item similarity-based collaborative filtering models in terms of RMSE and Precision@10, while maintaining competitive Recall@10 and F1 Score@10. This indicates that the SVD model not only predicts ratings more accurately but also ensures that a higher percentage of recommended items are relevant to users. Although the recall is slightly lower than the similarity-based models, the overall balance between precision and recall makes the SVD model a robust and effective choice for your recommendation system."
   ]
  },
  {
   "cell_type": "markdown",
   "metadata": {},
   "source": [
    "### **Steps:**\n",
    "- **Predict rating for the user with `userId=\"A3LDPF5FMB782Z\"`, and `prod_id= \"1400501466\"` using the optimized model**\n",
    "- **Predict rating for `userId=\"A34BZM6S9L7QI4\"` who has not interacted with `prod_id =\"1400501466\"`, by using the optimized model**\n",
    "- **Compare the output with the output from the baseline model**"
   ]
  },
  {
   "cell_type": "code",
   "execution_count": 260,
   "metadata": {},
   "outputs": [
    {
     "name": "stdout",
     "output_type": "stream",
     "text": [
      "Actual rating by user A3LDPF5FMB782Z for product 1400501466: 5\n",
      "Predicted rating for user A3LDPF5FMB782Z and product 1400501466: 4.1224\n",
      "\n"
     ]
    }
   ],
   "source": [
    "# Use svd_algo_optimized model to recommend for userId \"A3LDPF5FMB782Z\" and productId \"1400501466\"\n",
    "user_id, prod_id = (\"A3LDPF5FMB782Z\", \"1400501466\")  # User has interacted\n",
    "\n",
    "# Predict ratings for each pair\n",
    "predict_rating(svd_algo_optimized, df_final, user_id, prod_id)"
   ]
  },
  {
   "cell_type": "code",
   "execution_count": 258,
   "metadata": {},
   "outputs": [
    {
     "name": "stdout",
     "output_type": "stream",
     "text": [
      "User A34BZM6S9L7QI4 has not rated product 1400501466\n",
      "Predicted rating for user A34BZM6S9L7QI4 and product 1400501466: 4.2354\n",
      "\n"
     ]
    }
   ],
   "source": [
    "# Use svd_algo_optimized model to recommend for userId \"A34BZM6S9L7QI4\" and productId \"1400501466\"\n",
    "user_id, prod_id = (\"A34BZM6S9L7QI4\", \"1400501466\")  # User has not interacted\n",
    "\n",
    "# Predict ratings for each pair\n",
    "predict_rating(svd_algo_optimized, df_final, user_id, prod_id)"
   ]
  },
  {
   "cell_type": "markdown",
   "metadata": {},
   "source": [
    "## Model Comparison"
   ]
  },
  {
   "cell_type": "code",
   "execution_count": 275,
   "metadata": {
    "tags": []
   },
   "outputs": [
    {
     "data": {
      "text/html": [
       "<div>\n",
       "<style scoped>\n",
       "    .dataframe tbody tr th:only-of-type {\n",
       "        vertical-align: middle;\n",
       "    }\n",
       "\n",
       "    .dataframe tbody tr th {\n",
       "        vertical-align: top;\n",
       "    }\n",
       "\n",
       "    .dataframe thead th {\n",
       "        text-align: right;\n",
       "    }\n",
       "</style>\n",
       "<table border=\"1\" class=\"dataframe\">\n",
       "  <thead>\n",
       "    <tr style=\"text-align: right;\">\n",
       "      <th></th>\n",
       "      <th>Model</th>\n",
       "      <th>RMSE</th>\n",
       "      <th>Precision@10</th>\n",
       "      <th>Recall@10</th>\n",
       "      <th>F1 Score@10</th>\n",
       "      <th>Parameters</th>\n",
       "    </tr>\n",
       "  </thead>\n",
       "  <tbody>\n",
       "    <tr>\n",
       "      <th>0</th>\n",
       "      <td>User-User KNN</td>\n",
       "      <td>1.0116</td>\n",
       "      <td>0.858</td>\n",
       "      <td>0.822</td>\n",
       "      <td>0.840</td>\n",
       "      <td>{'k': 40, 'min_k': 1, 'sim_options': {'name': ...</td>\n",
       "    </tr>\n",
       "    <tr>\n",
       "      <th>1</th>\n",
       "      <td>sim_user_user_optimized</td>\n",
       "      <td>0.9571</td>\n",
       "      <td>0.852</td>\n",
       "      <td>0.854</td>\n",
       "      <td>0.853</td>\n",
       "      <td>{'k': 50, 'min_k': 5, 'sim_options': {'name': ...</td>\n",
       "    </tr>\n",
       "    <tr>\n",
       "      <th>2</th>\n",
       "      <td>Item-Item KNN</td>\n",
       "      <td>1.0090</td>\n",
       "      <td>0.838</td>\n",
       "      <td>0.800</td>\n",
       "      <td>0.819</td>\n",
       "      <td>{'k': 40, 'min_k': 1, 'sim_options': {'name': ...</td>\n",
       "    </tr>\n",
       "    <tr>\n",
       "      <th>3</th>\n",
       "      <td>sim_item_item_optimized</td>\n",
       "      <td>0.9677</td>\n",
       "      <td>0.833</td>\n",
       "      <td>0.967</td>\n",
       "      <td>0.895</td>\n",
       "      <td>{'k': 30, 'min_k': 6, 'sim_options': {'name': ...</td>\n",
       "    </tr>\n",
       "    <tr>\n",
       "      <th>4</th>\n",
       "      <td>algo_svd</td>\n",
       "      <td>0.8944</td>\n",
       "      <td>0.857</td>\n",
       "      <td>0.840</td>\n",
       "      <td>0.848</td>\n",
       "      <td>{'n_epochs': 20, 'lr_all': 0.005, 'reg_all': 0...</td>\n",
       "    </tr>\n",
       "    <tr>\n",
       "      <th>5</th>\n",
       "      <td>svd_algo_optimized</td>\n",
       "      <td>0.8852</td>\n",
       "      <td>0.858</td>\n",
       "      <td>0.838</td>\n",
       "      <td>0.848</td>\n",
       "      <td>{'n_epochs': 40, 'lr_all': 0.005, 'reg_all': 0.2}</td>\n",
       "    </tr>\n",
       "  </tbody>\n",
       "</table>\n",
       "</div>"
      ],
      "text/plain": [
       "                     Model    RMSE  Precision@10  Recall@10  F1 Score@10  \\\n",
       "0            User-User KNN  1.0116         0.858      0.822        0.840   \n",
       "1  sim_user_user_optimized  0.9571         0.852      0.854        0.853   \n",
       "2            Item-Item KNN  1.0090         0.838      0.800        0.819   \n",
       "3  sim_item_item_optimized  0.9677         0.833      0.967        0.895   \n",
       "4                 algo_svd  0.8944         0.857      0.840        0.848   \n",
       "5       svd_algo_optimized  0.8852         0.858      0.838        0.848   \n",
       "\n",
       "                                          Parameters  \n",
       "0  {'k': 40, 'min_k': 1, 'sim_options': {'name': ...  \n",
       "1  {'k': 50, 'min_k': 5, 'sim_options': {'name': ...  \n",
       "2  {'k': 40, 'min_k': 1, 'sim_options': {'name': ...  \n",
       "3  {'k': 30, 'min_k': 6, 'sim_options': {'name': ...  \n",
       "4  {'n_epochs': 20, 'lr_all': 0.005, 'reg_all': 0...  \n",
       "5  {'n_epochs': 40, 'lr_all': 0.005, 'reg_all': 0.2}  "
      ]
     },
     "execution_count": 275,
     "metadata": {},
     "output_type": "execute_result"
    }
   ],
   "source": [
    "# Define the data\n",
    "data = {\n",
    "    'Model': [\n",
    "        'User-User KNN',\n",
    "        'sim_user_user_optimized',\n",
    "        'Item-Item KNN',\n",
    "        'sim_item_item_optimized',\n",
    "        'algo_svd',\n",
    "        'svd_algo_optimized'\n",
    "    ],\n",
    "    'RMSE': [1.0116, 0.9571, 1.0090, 0.9677, 0.8944, 0.8852],\n",
    "    'Precision@10': [0.858, 0.852, 0.838, 0.833, 0.857, 0.858],\n",
    "    'Recall@10': [0.822, 0.854, 0.800, 0.967, 0.840, 0.838],\n",
    "    'F1 Score@10': [0.840, 0.853, 0.819, 0.895, 0.848, 0.848],\n",
    "    'Parameters': [\n",
    "        \"{'k': 40, 'min_k': 1, 'sim_options': {'name': 'cosine', 'user_based': True}}\",\n",
    "        \"{'k': 50, 'min_k': 5, 'sim_options': {'name': 'cosine', 'user_based': True}}\",\n",
    "        \"{'k': 40, 'min_k': 1, 'sim_options': {'name': 'cosine', 'user_based': False}}\",\n",
    "        \"{'k': 30, 'min_k': 6, 'sim_options': {'name': 'msd', 'user_based': False}}\",\n",
    "        \"{'n_epochs': 20, 'lr_all': 0.005, 'reg_all': 0.02}\",\n",
    "        \"{'n_epochs': 40, 'lr_all': 0.005, 'reg_all': 0.2}\"\n",
    "    ]\n",
    "}\n",
    "\n",
    "# Create the DataFrame\n",
    "df_models = pd.DataFrame(data)\n",
    "\n",
    "# Display the DataFrame\n",
    "df_models"
   ]
  },
  {
   "cell_type": "markdown",
   "metadata": {
    "id": "nnwPwgjB8DwS"
   },
   "source": [
    "### **Conclusion and Recommendations**"
   ]
  },
  {
   "cell_type": "markdown",
   "metadata": {
    "id": "xuqnifw9NF2p"
   },
   "source": [
    "### Conclusion:\n",
    "\n",
    "After implementing and optimizing six different collaborative filtering models—User-User KNN, sim_user_user_optimized KNN, Item-Item KNN, sim_item_item_optimized KNN, algo_svd SVD, and svd_algo_optimized SVD—we’ve evaluated their performance using key accuracy metrics: RMSE, Precision@10, Recall@10, and F1 Score@10. Here’s a breakdown of the findings:\n",
    "\n",
    "\t1.\tsvd_algo_optimized (SVD):\n",
    "\t•\tRMSE: 0.8852 (Lowest among all models)\n",
    "\t•\tPrecision@10: 0.858 (Highest precision)\n",
    "\t•\tRecall@10: 0.838 (Competitive recall)\n",
    "\t•\tF1 Score@10: 0.848 (Balanced F1 Score)\n",
    "    \n",
    "Interpretation: This optimized SVD model achieves the best RMSE and highest precision, indicating superior accuracy and relevance in recommendations. While recall is slightly lower compared to the similarity-based models, it remains strong, ensuring a good balance between precision and coverage.\n",
    "\n",
    "\t2.\talgo_svd (SVD):\n",
    "\t•\tRMSE: 0.8944\n",
    "\t•\tPrecision@10: 0.857\n",
    "\t•\tRecall@10: 0.840\n",
    "\t•\tF1 Score@10: 0.848\n",
    "Interpretation: The initial SVD model also performs well, with low RMSE and high precision. Hyperparameter tuning further enhances its performance, as seen in the optimized version.\n",
    "\n",
    "\t3.\tsim_user_user_optimized (User-User KNN):\n",
    "\t•\tRMSE: 0.9571\n",
    "\t•\tPrecision@10: 0.852\n",
    "\t•\tRecall@10: 0.854\n",
    "\t•\tF1 Score@10: 0.853\n",
    "Interpretation: This optimized User-User KNN model shows improved RMSE compared to its baseline, with balanced precision and recall. It offers reliable recommendations with good coverage.\n",
    "\n",
    "\t4.\tsim_item_item_optimized (Item-Item KNN):\n",
    "\t•\tRMSE: 0.9677\n",
    "\t•\tPrecision@10: 0.833\n",
    "\t•\tRecall@10: 0.967\n",
    "\t•\tF1 Score@10: 0.895\n",
    "Interpretation: The optimized Item-Item KNN model achieves high recall, ensuring that most relevant items are recommended. However, its precision is slightly lower, meaning that some recommended items may be less relevant compared to the SVD models.\n",
    "\n",
    "\t5.\tUser-User KNN (Baseline):\n",
    "\t•\tRMSE: 1.0116\n",
    "\t•\tPrecision@10: 0.858\n",
    "\t•\tRecall@10: 0.822\n",
    "\t•\tF1 Score@10: 0.840\n",
    "Interpretation: The baseline User-User KNN model has higher RMSE and slightly lower precision and recall compared to its optimized counterpart, indicating the benefits of hyperparameter tuning.\n",
    "\n",
    "\t6.\tItem-Item KNN (Baseline):\n",
    "\t•\tRMSE: 1.0090\n",
    "\t•\tPrecision@10: 0.838\n",
    "\t•\tRecall@10: 0.800\n",
    "\t•\tF1 Score@10: 0.819\n",
    "Interpretation: Similar to the User-User KNN baseline, the Item-Item KNN baseline exhibits higher RMSE and lower precision and recall compared to its optimized version.\n",
    "\n",
    "### Recommendations:\n",
    "\n",
    "\t1.\tDeploy the Optimized SVD Model (svd_algo_optimized):\n",
    "\t•\tWhy: It offers the lowest RMSE and highest precision among all models, ensuring accurate and relevant recommendations.\n",
    "\t•\tUse Case: Ideal for applications where prediction accuracy and recommendation relevance are paramount, enhancing user satisfaction and engagement.\n",
    "    \n",
    "\t2.\tConsider a Hybrid Approach:\n",
    "\t•\tStrategy: Combine the strengths of both model-based (SVD) and similarity-based (KNN) approaches.\n",
    "\t•\tBenefit: Leverage the high accuracy and relevance of the SVD model with the comprehensive coverage of the optimized KNN models to create a more robust recommendation system.\n",
    "\t•\tImplementation: This can be achieved by blending recommendations from both models or using ensemble techniques to aggregate their predictions.\n",
    "    \n",
    "\t3.\tFurther Hyperparameter Tuning for SVD:\n",
    "\t•\tObjective: Explore additional hyperparameters such as n_factors, lr_all, and reg_all to potentially enhance the SVD model’s performance even further.\n",
    "\t•\tMethod: Utilize GridSearchCV or other hyperparameter optimization techniques to identify the most effective parameter combinations.\n",
    "    \n",
    "\t4.\tEvaluate Additional Metrics:\n",
    "\t•\tMetrics to Consider: Mean Absolute Error (MAE), Coverage, Diversity, and Novelty.\n",
    "\t•\tPurpose: To gain a more comprehensive understanding of model performance, ensuring that recommendations are not only accurate but also diverse and cover a wide range of items.\n",
    "    \n",
    "\t5.\tIntegrate and Monitor the Recommendation System:\n",
    "\t•\tAction: Deploy the optimized SVD model into your production environment to provide real-time, personalized recommendations to users.\n",
    "\t•\tMonitoring: Continuously track performance metrics and gather user feedback to ensure the system remains effective and to identify areas for further improvement.\n",
    "    \n",
    "\t6.\tGather and Incorporate User Feedback:\n",
    "\t•\tMethod: Implement mechanisms for users to provide feedback on recommendations (e.g., ratings, likes/dislikes).\n",
    "\t•\tBenefit: Use this feedback to refine and personalize the recommendation algorithms, ensuring they adapt to evolving user preferences.\n",
    "    \n",
    "\t7.\tExpand the Dataset (If Possible):\n",
    "\t•\tAction: Increase the volume and diversity of user-item interactions to enhance model training.\n",
    "\t•\tBenefit: A richer dataset can improve model accuracy, especially for users and items with sparse interactions.\n",
    "    \n",
    "\t8.\tExplore Advanced Algorithms:\n",
    "\t•\tOptions: Consider experimenting with other matrix factorization techniques like SVD++, Non-Negative Matrix Factorization (NMF), or Deep Learning-based models.\n",
    "\t•\tPurpose: To potentially uncover more intricate patterns in user behavior and item characteristics, further enhancing recommendation quality.\n",
    "    \n",
    "    \n",
    "By adopting a strategic approach that leverages the strengths of each model, continuously refining hyperparameters, and incorporating the feedback, we can build a robust and effective recommendation system that significantly enhances user experience and engagement."
   ]
  }
 ],
 "metadata": {
  "colab": {
   "provenance": []
  },
  "kernelspec": {
   "display_name": "Python 3 (ipykernel)",
   "language": "python",
   "name": "python3"
  },
  "language_info": {
   "codemirror_mode": {
    "name": "ipython",
    "version": 3
   },
   "file_extension": ".py",
   "mimetype": "text/x-python",
   "name": "python",
   "nbconvert_exporter": "python",
   "pygments_lexer": "ipython3",
   "version": "3.11.7"
  }
 },
 "nbformat": 4,
 "nbformat_minor": 4
}
